{
 "cells": [
  {
   "cell_type": "markdown",
   "metadata": {},
   "source": [
    "# Fundamentos de Programación con Python\n",
    "\n",
    "Estos Notebooks fueron creados por profesores y diseñadores de contenido de la Universidad del Norte, en Barranquilla - Colombia.\n",
    "\n",
    "Todos estos materiales cuentan con una licencia <b>Creative Commons</b> de libre uso con atribución.\n",
    "\n",
    "<b>Bienvenido!</b> \n",
    "\n",
    "## Python y Jupyter\n",
    "\n",
    "Python es un lenguaje de programación usado en ciencias e ingeniería. Es ideal para aprender programación porque su sintáxis es simple y es un lenguaje muy popular en este momento. \n",
    "\n",
    "Python permite crear programas que resuelvan problemas automatizando tareas repetitivas, procesando grandes cantidades de datos, resolviendo complejos cálculos matemáticos, o simplemente, creando visualizaciones de fenónenos complejos.\n",
    "\n",
    "Jupyter es un editor de texto y código que nos permite integrar éstos dos elementos en una página web que llamaremos NoteBook (NB), para poder integrar explicaciones, ejecutar código, e incluir ejercicios prácticos. Cada que encuentres el texto In [ ] a la izquierda de una caja de texto, quiere decir que puedes ejecutar esta instrucción.\n",
    "\n",
    "## Instrucciones, Variables, y Operaciones Matemáticas\n",
    "Comencemos por lo más sencillo... Recuerda que programar significa darle instrucciones al computador para que haga lo que yo quiera. Podemos comenzar por pedirle que imprima algo para nosotros:\n"
   ]
  },
  {
   "cell_type": "code",
   "execution_count": 40,
   "metadata": {},
   "outputs": [
    {
     "name": "stdout",
     "output_type": "stream",
     "text": [
      "Mi primera instrucción al computador!\n"
     ]
    }
   ],
   "source": [
    "print(\"Mi primera instrucción al computador!\")"
   ]
  },
  {
   "cell_type": "markdown",
   "metadata": {},
   "source": [
    "### Actividad 1\n",
    "\n",
    "Lo que hicimos fue simplemente decirle al computador que imprimiera (print) el texto que estaba entre las comillas. Ahora tu puedes hacer que imprima algo diferente. Escribe tu instrucción en el siguiente espacio y luego lo podrás ejecutar.\n"
   ]
  },
  {
   "cell_type": "code",
   "execution_count": 41,
   "metadata": {},
   "outputs": [
    {
     "name": "stdout",
     "output_type": "stream",
     "text": [
      "¡Hola Mundo!\n"
     ]
    }
   ],
   "source": [
    "print(\"¡Hola Mundo!\")"
   ]
  },
  {
   "cell_type": "markdown",
   "metadata": {},
   "source": [
    "### Actividad 2\n",
    "Recordemos nuestro primer algoritmo\n",
    "\n",
    "Ahora vamos a modificar este algoritmo para escribirlo en Python. \n",
    "\n",
    "Inicio\n",
    "\n",
    "    valor_uno ⇐ 5\n",
    "    valor_dos ⇐ 8\n",
    "\n",
    "    total =  valor_uno + valor_dos\n",
    "Fin"
   ]
  },
  {
   "cell_type": "code",
   "execution_count": 42,
   "metadata": {},
   "outputs": [],
   "source": [
    "valor_uno = 5\n",
    "valor_dos = 8\n",
    "total = valor_uno + valor_dos"
   ]
  },
  {
   "cell_type": "markdown",
   "metadata": {},
   "source": [
    "Por ahora no vemos nada, pero qué tal si imprimirmos la variable total? Ingresa el código para imprimir la variable total"
   ]
  },
  {
   "cell_type": "code",
   "execution_count": 43,
   "metadata": {},
   "outputs": [
    {
     "name": "stdout",
     "output_type": "stream",
     "text": [
      "13\n"
     ]
    }
   ],
   "source": [
    "print(total)"
   ]
  },
  {
   "cell_type": "markdown",
   "metadata": {},
   "source": [
    "Y si quisieramos leer el valor? Python cuenta con la función input() para leer valores. Vamos a ver como usarla"
   ]
  },
  {
   "cell_type": "code",
   "execution_count": 44,
   "metadata": {},
   "outputs": [
    {
     "name": "stdout",
     "output_type": "stream",
     "text": [
      "15\n",
      "20\n",
      "35.0\n"
     ]
    }
   ],
   "source": [
    "valor_uno = float(input())\n",
    "valor_dos = float(input())\n",
    "print(valor_uno + valor_dos)"
   ]
  },
  {
   "cell_type": "markdown",
   "metadata": {},
   "source": [
    "En el código anterior además de la función input() usamos float() para determinar el tipo de dato. Por defecto, Python leería la variable como una cadena de caracteres, pero para poder realizar operaciones aritméticas, necesitamos identificarlas como número. En este caso, float quiere decir flotante. Más adelante analizaremos otros tipos de datos.\n",
    "\n",
    "Ahora revisemos los operadores aritméticos y su sintáxis en Python\n",
    "\n",
    "<table>\n",
    "<thead><tr>\n",
    "<th>Operador</th>\n",
    "<th>Nombre</th>\n",
    "<th>Descripción</th>\n",
    "</tr>\n",
    "</thead>\n",
    "<tbody>\n",
    "<tr>\n",
    "<td><code>a + b</code></td>\n",
    "<td>Suma</td>\n",
    "<td>Suma de <code>a</code> y <code>b</code></td>\n",
    "</tr>\n",
    "<tr>\n",
    "<td><code>a - b</code></td>\n",
    "<td>Resta</td>\n",
    "<td>Diferencia entra <code>a</code> y <code>b</code></td>\n",
    "</tr>\n",
    "<tr>\n",
    "<td><code>a * b</code></td>\n",
    "<td>Multiplicación</td>\n",
    "<td>Multiplicación de <code>a</code> y <code>b</code></td>\n",
    "</tr>\n",
    "<tr>\n",
    "<td><code>a / b</code></td>\n",
    "<td>División real</td>\n",
    "<td>Resultado de <code>a</code> dividido <code>b</code></td>\n",
    "</tr>\n",
    "<tr>\n",
    "<td><code>a // b</code></td>\n",
    "<td>División con redondeo</td>\n",
    "<td>Resultado de <code>a</code> dividido b <code>b</code>, redondeo a número entero</td>\n",
    "</tr>\n",
    "<tr>\n",
    "<td><code>a % b</code></td>\n",
    "<td>Modulo</td>\n",
    "<td>Residuo de la división entre <code>a</code> y <code>b</code></td>\n",
    "</tr>\n",
    "<tr>\n",
    "<td><code>a ** b</code></td>\n",
    "<td>Potencia</td>\n",
    "<td><code>a</code> a la potencia de <code>b</code></td>\n",
    "</tr>\n",
    "<tr>\n",
    "<td><code>-a</code></td>\n",
    "<td>Negación</td>\n",
    "<td>Negativo de <code>a</code></td>\n",
    "</tr>\n",
    "</tbody></table>\n",
    "\n",
    "Observemos la diferencia entre división real y división con redondeo en Python."
   ]
  },
  {
   "cell_type": "code",
   "execution_count": 45,
   "metadata": {},
   "outputs": [
    {
     "name": "stdout",
     "output_type": "stream",
     "text": [
      "3.0\n",
      "2.5\n"
     ]
    }
   ],
   "source": [
    "print(6/2)\n",
    "print(5/2)"
   ]
  },
  {
   "cell_type": "code",
   "execution_count": 46,
   "metadata": {},
   "outputs": [
    {
     "name": "stdout",
     "output_type": "stream",
     "text": [
      "3\n",
      "2\n"
     ]
    }
   ],
   "source": [
    "print(6//2)\n",
    "print(5//2)"
   ]
  },
  {
   "cell_type": "markdown",
   "metadata": {},
   "source": [
    "### Actividad 3\n",
    "\n",
    "El área de un cuadrado puede calcularse como a^2. Modifica el código para calcular el área del cuadrado donde a = 4\n"
   ]
  },
  {
   "cell_type": "code",
   "execution_count": 47,
   "metadata": {},
   "outputs": [
    {
     "name": "stdout",
     "output_type": "stream",
     "text": [
      "16\n"
     ]
    }
   ],
   "source": [
    "a = 4 # Modificar con el valor dado\n",
    "\n",
    "# Crea una variable llamada area y usa la formula indicada para calcular el area del cuadrado\n",
    "area = a ** 2\n",
    "print(area)\n"
   ]
  },
  {
   "cell_type": "markdown",
   "metadata": {},
   "source": [
    "## Reto de la semana\n",
    "Cada semana estaremos presentando un reto en el que vamos a ir trabajando cada día y que debe ser entregado al final de la semana. Esta semana, el objetivo es diseñar un menú con las siguientes 4 funciones:\n",
    "\n",
    "1.  Leer un número de 4 dígitos, mostrar el dígito mayor e informar si es par o impar.\n",
    "2.  Leer dos números de 3 dígitos cada uno, formar un tercer número con el mayor del primero y el menor del segundo.\n",
    "3.  Leer un número de 3 dígitos y formar el mayor número posible con sus cifras.\n",
    "4.  Salir\n",
    "\n",
    "Ve pensando en el algoritmo (los pasos) necesario para realizar cada una de las opciones. \n",
    "\n",
    "## Retos del día\n",
    "\n",
    "Consideraciones para los retos del día:\n",
    "\n",
    "    1. El archivo con los retos del día puede ser descargado en la página del curso. Vayan a la sesión indiciada y busquen la opción Retos del día.\n",
    "    2. El archivo lo deben subir a Mybinder para poder manipularlo\n",
    "    3. Deben guardar el archivo a subir como retos.ipnyb - OJO, sino tiene este nombre no ejecutará y no podrá revisarse automáticamente\n",
    "    4. La estructura para ingresar el código es un poco diferente. Es importante entenderla para que pueda ejecutarse el código correctamente\n",
    "    \n",
    "    def reto1(x,y,z,w):\n",
    "    \n",
    "        # Escribe tu código aquí. Manten la identación!!\n",
    "    \n",
    "        return 0 # Reemplaza 0 por la variable que tiene el resultado\n",
    "    \n",
    "    reto1(3,3,3,3)"
   ]
  },
  {
   "cell_type": "code",
   "execution_count": 165,
   "metadata": {},
   "outputs": [
    {
     "name": "stdout",
     "output_type": "stream",
     "text": [
      "Ingrese un numero de 4 digitos: 8193\n",
      "El digito mayor de 8193 es 9 y es impar. \n"
     ]
    },
    {
     "data": {
      "text/plain": [
       "9"
      ]
     },
     "execution_count": 165,
     "metadata": {},
     "output_type": "execute_result"
    }
   ],
   "source": [
    "def reto1():\n",
    "    num = (input('Ingrese un numero de 4 digitos: '))\n",
    "    #Divido los cuatro digitos en numeros individuales\n",
    "    w, x, y, z = int(num[0], base=10), int(num[1], base=10), int(num[2], base=10), int(num[3], base=10)\n",
    "    #Encuentro cual es el numero mayor\n",
    "    if w>x and w>y and w>z:\n",
    "        mayor = w\n",
    "    if x>w and x>y and x>z:\n",
    "        mayor = x\n",
    "    if y>w and y>x and y>z:\n",
    "        mayor = y\n",
    "    if z>w and z>x and z>y:\n",
    "        mayor = z\n",
    "    #Determino si el numero encontrado anteriormente es par o impar\n",
    "    if mayor%2 == 0:\n",
    "        esPar = True\n",
    "        print('El digito mayor de ' + num + ' es ' + str(mayor) + ' y es par. ')\n",
    "    else:\n",
    "        esPar = False\n",
    "        print('El digito mayor de ' + num + ' es ' + str(mayor) + ' y es impar. ')\n",
    "    return mayor\n",
    "\n",
    "reto1()\n",
    "\n",
    "#Si se desea introducir un numero directamente a la función sin pasar por consola usar este codigo\n",
    "#def reto1(w,x,y,z):\n",
    "#    if w>x and w>y and w>z:\n",
    "#        mayor = w\n",
    "#    if x>w and x>y and x>z:\n",
    "#        mayor = x\n",
    "#    if y>w and y>x and y>z:\n",
    "#        mayor = y\n",
    "#    if z>w and z>x and z>y:\n",
    "#        mayor = z\n",
    "#    if mayor%2 == 0:\n",
    "#        esPar = True\n",
    "#        print('El digito mayor de ' + str(w)+str(x)+str(y)+str(z) + ' es ' + str(mayor) + ' y es par. ')\n",
    "#    else:\n",
    "#        esPar = False\n",
    "#        print('El digito mayor de ' + str(w)+str(x)+str(y)+str(z) + ' es ' + str(mayor) + ' y es impar. ')\n",
    "#    return mayor\n",
    "#\n",
    "#reto1(8,7,4,6)"
   ]
  },
  {
   "cell_type": "code",
   "execution_count": 167,
   "metadata": {},
   "outputs": [
    {
     "name": "stdout",
     "output_type": "stream",
     "text": [
      "Ingrese el primer numero de 3 digitos: 549\n",
      "Ingrese el segundo numero de 3 digitos: 627\n",
      "El número 1 es 549 y el digito mayor es 9\n",
      "El número 2 es 627 y el digito menor es 2\n",
      "El número 3 conformado por el mayor y menor es 92\n"
     ]
    },
    {
     "data": {
      "text/plain": [
       "92"
      ]
     },
     "execution_count": 167,
     "metadata": {},
     "output_type": "execute_result"
    }
   ],
   "source": [
    "def reto2():\n",
    "    num = (input('Ingrese el primer numero de 3 digitos: '))\n",
    "    num2 = (input('Ingrese el segundo numero de 3 digitos: '))\n",
    "    w,x,y = num[0], num[1], num[2]\n",
    "    a,b,c = num2[0], num2[1], num2[2]\n",
    "    if w>x and w>y:\n",
    "        mayor = w\n",
    "    if x>w and x>y:\n",
    "        mayor = x\n",
    "    if y>w and y>x:\n",
    "        mayor = y\n",
    "    if a<b and a<c:\n",
    "        menor = a\n",
    "    if b<a and b<c:\n",
    "        menor = b\n",
    "    if c<a and c<b:\n",
    "        menor = c\n",
    "    num3 = mayor + menor\n",
    "    print('El número 1 es ' + num + ' y el digito mayor es ' + mayor)\n",
    "    print('El número 2 es ' + num2 + ' y el digito menor es ' + menor)\n",
    "    print('El número 3 conformado por el mayor y menor es ' + num3)\n",
    "    return int(num3, base=10)\n",
    "reto2()"
   ]
  },
  {
   "cell_type": "code",
   "execution_count": 170,
   "metadata": {},
   "outputs": [
    {
     "name": "stdout",
     "output_type": "stream",
     "text": [
      "Ingrese un numero de 3 digitos: 915\n",
      "El numero más grande formado por 915 es 951\n"
     ]
    },
    {
     "data": {
      "text/plain": [
       "951"
      ]
     },
     "execution_count": 170,
     "metadata": {},
     "output_type": "execute_result"
    }
   ],
   "source": [
    "def reto3():\n",
    "    num = (input('Ingrese un numero de 3 digitos: '))\n",
    "    w, x, y = int(num[0], base=10), int(num[1], base=10), int(num[2], base=10)\n",
    "    numComp = [w,x,y]\n",
    "    mayorNum = numComp.sort(reverse=True)\n",
    "    print('El numero más grande formado por ' + str(num) + ' es ' + str(numComp[0])+str(numComp[1])+str(numComp[2]))\n",
    "    return int(str(numComp[0])+str(numComp[1])+str(numComp[2]), base=10)\n",
    "reto3()"
   ]
  },
  {
   "cell_type": "code",
   "execution_count": null,
   "metadata": {},
   "outputs": [],
   "source": []
  }
 ],
 "metadata": {
  "kernelspec": {
   "display_name": "Python 3",
   "language": "python",
   "name": "python3"
  },
  "language_info": {
   "codemirror_mode": {
    "name": "ipython",
    "version": 3
   },
   "file_extension": ".py",
   "mimetype": "text/x-python",
   "name": "python",
   "nbconvert_exporter": "python",
   "pygments_lexer": "ipython3",
   "version": "3.7.6"
  }
 },
 "nbformat": 4,
 "nbformat_minor": 4
}
