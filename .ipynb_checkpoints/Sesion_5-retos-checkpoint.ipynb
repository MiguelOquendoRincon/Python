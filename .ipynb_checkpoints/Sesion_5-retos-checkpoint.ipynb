{
 "cells": [
  {
   "cell_type": "markdown",
   "metadata": {},
   "source": [
    "## Retos del día\n",
    "\n",
    "Los retos del día están diseñados para permitirte practicar los conceptos aprendidos y empezar a explorar el lenguaje de programación. \n",
    "\n",
    "Recuerda tomar el tiempo en analizar y planear la solución antes de empezar a programar!\n",
    "\n",
    "### Reto del día 1\n",
    "\n",
    "Escriba un algoritmo que lea un número entero N mayor que 100 (debe validar el número y si es menor de 100 retornar \"Error en el numero\"). Si N termina en 4,7 ó 9; diga si es divisible por 3, si termina en 1 ó 5, divida por 10 y retorne el valor entero, en otro caso divida el número entre 3 y retorne su residuo. "
   ]
  },
  {
   "cell_type": "code",
   "execution_count": 118,
   "metadata": {},
   "outputs": [
    {
     "ename": "UnboundLocalError",
     "evalue": "local variable 'esDivisible' referenced before assignment",
     "output_type": "error",
     "traceback": [
      "\u001b[1;31m---------------------------------------------------------------------------\u001b[0m",
      "\u001b[1;31mUnboundLocalError\u001b[0m                         Traceback (most recent call last)",
      "\u001b[1;32m<ipython-input-118-a39fc6b22f6c>\u001b[0m in \u001b[0;36m<module>\u001b[1;34m\u001b[0m\n\u001b[0;32m     18\u001b[0m         \u001b[1;32mreturn\u001b[0m \u001b[1;34m\"Error en el numero\"\u001b[0m\u001b[1;33m\u001b[0m\u001b[1;33m\u001b[0m\u001b[0m\n\u001b[0;32m     19\u001b[0m \u001b[1;33m\u001b[0m\u001b[0m\n\u001b[1;32m---> 20\u001b[1;33m \u001b[0mreto1\u001b[0m\u001b[1;33m(\u001b[0m\u001b[1;36m164\u001b[0m\u001b[1;33m)\u001b[0m\u001b[1;33m\u001b[0m\u001b[1;33m\u001b[0m\u001b[0m\n\u001b[0m",
      "\u001b[1;32m<ipython-input-118-a39fc6b22f6c>\u001b[0m in \u001b[0;36mreto1\u001b[1;34m(N)\u001b[0m\n\u001b[0;32m     14\u001b[0m             \u001b[0mres\u001b[0m \u001b[1;33m=\u001b[0m \u001b[0mnum\u001b[0m\u001b[1;33m.\u001b[0m\u001b[0msplit\u001b[0m\u001b[1;33m(\u001b[0m\u001b[1;34m'.'\u001b[0m\u001b[1;33m)\u001b[0m\u001b[1;33m\u001b[0m\u001b[1;33m\u001b[0m\u001b[0m\n\u001b[0;32m     15\u001b[0m             \u001b[0mresiduo\u001b[0m \u001b[1;33m=\u001b[0m \u001b[0mint\u001b[0m\u001b[1;33m(\u001b[0m\u001b[0mres\u001b[0m\u001b[1;33m[\u001b[0m\u001b[1;36m1\u001b[0m\u001b[1;33m]\u001b[0m\u001b[1;33m,\u001b[0m \u001b[0mbase\u001b[0m\u001b[1;33m=\u001b[0m\u001b[1;36m10\u001b[0m\u001b[1;33m)\u001b[0m\u001b[1;33m\u001b[0m\u001b[1;33m\u001b[0m\u001b[0m\n\u001b[1;32m---> 16\u001b[1;33m         \u001b[1;32mreturn\u001b[0m \u001b[0mresiduo\u001b[0m\u001b[1;33m,\u001b[0m \u001b[0mnum\u001b[0m\u001b[1;33m,\u001b[0m \u001b[0mesDivisible\u001b[0m\u001b[1;33m\u001b[0m\u001b[1;33m\u001b[0m\u001b[0m\n\u001b[0m\u001b[0;32m     17\u001b[0m     \u001b[1;32melse\u001b[0m\u001b[1;33m:\u001b[0m\u001b[1;33m\u001b[0m\u001b[1;33m\u001b[0m\u001b[0m\n\u001b[0;32m     18\u001b[0m         \u001b[1;32mreturn\u001b[0m \u001b[1;34m\"Error en el numero\"\u001b[0m\u001b[1;33m\u001b[0m\u001b[1;33m\u001b[0m\u001b[0m\n",
      "\u001b[1;31mUnboundLocalError\u001b[0m: local variable 'esDivisible' referenced before assignment"
     ]
    }
   ],
   "source": [
    "def reto1(N):\n",
    "    if(N>=100):\n",
    "        numero = str(N)\n",
    "        ultimoDigito = int(numero[2], base=10)   \n",
    "        if(ultimoDigito==3 or ultimoDigito==7 or ultimoDigito==9):\n",
    "            if((N%3)==0):\n",
    "                esDivisible='Es divisible por 3'\n",
    "            else:\n",
    "                esDivisible='No es divisible por 3'\n",
    "            return esDivisible\n",
    "        if(ultimoDigito==1 or ultimoDigito==5):\n",
    "            num = N//10\n",
    "        else:\n",
    "            residuo = str(N/3)\n",
    "            res = residuo.split('.')\n",
    "            num = int(res[1], base=10)\n",
    "        return num\n",
    "    else:\n",
    "        return \"Error en el numero\"\n",
    "\n",
    "reto1(164)"
   ]
  },
  {
   "cell_type": "markdown",
   "metadata": {},
   "source": [
    "### Reto del día 2\n",
    "\n",
    "La ley de Ohm establece una relación entre la intensidad de corriente (I) que circula por un circuito, la diferencia de potencial (V) y la resistencia (R) del mismo mediante la siguiente fórmula: I =V / R \n",
    "\n",
    "\n",
    "Hacer un algoritmo que solicite la opción a calcular: 1 para calcular I, 2 para calcular V o 3 para calcular R utilizando un diccionario en Python; asi como tres variables I, V y R donde aquella a calcular sea 0.\n",
    "\n",
    "El codigo debe mostrar el resultado. <b>Ojo:</b> Se debe validar que los datos suministrados deben ser mayores que cero excepto para la variable a calcular, de lo contrario retornar \"Error en los numeros\". "
   ]
  },
  {
   "cell_type": "code",
   "execution_count": 114,
   "metadata": {},
   "outputs": [
    {
     "data": {
      "text/plain": [
       "125.0"
      ]
     },
     "execution_count": 114,
     "metadata": {},
     "output_type": "execute_result"
    }
   ],
   "source": [
    "def reto2(opcion, valorI, valorV, valorR):\n",
    "    eleccion = opcion\n",
    "    if eleccion is 1:\n",
    "        if(valorI>0):\n",
    "            I = valorI\n",
    "            return I\n",
    "        else:\n",
    "            return \"Error en los numeros\"\n",
    "    elif eleccion is 2:\n",
    "        if(valorI>0 and valorR>0):\n",
    "            V = valorI*valorR\n",
    "            return V\n",
    "        else:\n",
    "            return \"Error en los numeros\"\n",
    "    elif eleccion is 3:\n",
    "        if(valorV>0 and valorI>0):\n",
    "            R = valorV/valorI\n",
    "            return R\n",
    "        else:\n",
    "            return \"Error en los numeros\"\n",
    "reto2(2,2.5,0,50) "
   ]
  },
  {
   "cell_type": "markdown",
   "metadata": {},
   "source": [
    "### Reto del día 3 \n",
    "\n",
    "Construye un algoritmo que dados 3 números que representan una fecha (MM, DD, AAAA), el algoritmo debe mostrar la fecha en formato largo. Ej. si los números ingresados son: 11, 7, 85 la fecha a mostrar sería “Noviembre, 7 de 1985”. Ojo: Conserva el formato mostrado incluyendo comas y espacios.\n",
    "\n",
    "Utilizar Dependiendo_De para determinar el Mes y validar que el dia este entre 1 y 31, el mes entre 1 y 12 y el año entre 1 y 2999. Si alguna validación falla, retornar \"Error en los numeros\". "
   ]
  },
  {
   "cell_type": "code",
   "execution_count": 112,
   "metadata": {},
   "outputs": [
    {
     "data": {
      "text/plain": [
       "'Error en los numeros'"
      ]
     },
     "execution_count": 112,
     "metadata": {},
     "output_type": "execute_result"
    }
   ],
   "source": [
    "def reto3(mes, dia, año):\n",
    "    if(1<=mes<=12 and 1<=dia<=31 and 1<=año<=2999):\n",
    "        meses = {1:'Enero', 2:'Febrero', 3:'Marzo', 4:'Abril', 5:'Mayo', 6:'Junio', 7:'Julio', 8:'Agosto', 9:'Septiembre', 10:'Octubre', 11:'Noviembre', 12:'Diciembre'}\n",
    "        mes1 = meses.get(mes)\n",
    "        fecha = mes1+\", \" + str(dia) + \" de \" + str(año)\n",
    "        return fecha\n",
    "    else:\n",
    "        return \"Error en los numeros\"\n",
    "reto3(13,7,1985)"
   ]
  },
  {
   "cell_type": "code",
   "execution_count": null,
   "metadata": {},
   "outputs": [],
   "source": []
  }
 ],
 "metadata": {
  "kernelspec": {
   "display_name": "Python 3",
   "language": "python",
   "name": "python3"
  }
 },
 "nbformat": 4,
 "nbformat_minor": 4
}
