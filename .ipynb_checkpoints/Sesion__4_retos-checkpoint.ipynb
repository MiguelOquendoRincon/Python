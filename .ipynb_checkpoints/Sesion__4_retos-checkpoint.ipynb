{
 "cells": [
  {
   "cell_type": "markdown",
   "metadata": {},
   "source": [
    "## Retos del día\n",
    "\n",
    "Los retos del día están diseñados para permitirte practicar los conceptos aprendidos y empezar a explorar el lenguaje de programación. \n",
    "\n",
    "Recuerda tomar el tiempo en analizar y planear la solución antes de empezar a programar!\n",
    "\n",
    "### Reto del día 1\n",
    "\n",
    "El sistema de calificación de notas, entrega una nota alfanumérica por cada nota numérica entregada (entre 1 y 100). Realiza un condicional que retorne la nota alfanumérica. \n",
    "\n",
    "<table>\n",
    "<thead><tr>\n",
    "<th>Nota</th>\n",
    "<th>Nota Alfanumérica</th>\n",
    "</tr>\n",
    "</thead>\n",
    "<tbody>\n",
    "<tr>\n",
    "<td><code> 0 - 59</code></td>\n",
    "<td>F</td>\n",
    "</tr>\n",
    "<tr>\n",
    "<td><code>Entre 60 y 69</code></td>\n",
    "<td>D</td>\n",
    "</tr>\n",
    "<tr>\n",
    "<td><code>70 - 79</code></td>\n",
    "<td>C</td>\n",
    "</tr>\n",
    "<tr>\n",
    "<td><code>80 - 89</code></td>\n",
    "<td>B</td>\n",
    "</tr>\n",
    "<tr>\n",
    "<td><code>90 - 100</code></td>\n",
    "<td>A</td>\n",
    "</tr>\n",
    "</tbody></table>"
   ]
  },
  {
   "cell_type": "code",
   "execution_count": 1,
   "metadata": {},
   "outputs": [
    {
     "data": {
      "text/plain": [
       "0"
      ]
     },
     "execution_count": 1,
     "metadata": {},
     "output_type": "execute_result"
    }
   ],
   "source": [
    "def reto1(nota):\n",
    "    notaAlfanumerica = ''\n",
    "    if(0<=nota>=59):\n",
    "        notaAlfanumerica = 'F'\n",
    "    elif(60<=nota>=69):\n",
    "        notaAlfanumerica = 'D'\n",
    "    elif(70<=nota>=79):\n",
    "        notaAlfanumerica = 'C'\n",
    "    elif(80<=nota>=89):\n",
    "        notaAlfanumerica = 'B'\n",
    "    elif(90<=nota>=100):\n",
    "        notaAlfanumerica = 'A'\n",
    "    else:\n",
    "        print('Ingrese una nota entre 0 y 100')\n",
    "    \n",
    "    return notaAlfanumerica # Reemplaza 0 por la variable que tiene el resultado\n",
    "\n",
    "reto1(64)"
   ]
  },
  {
   "cell_type": "markdown",
   "metadata": {},
   "source": [
    "### Reto del día 2\n",
    "\n",
    "La contaminación en las principales ciudades del país es algo que preocupa a los gobernantes.\n",
    "\n",
    "Las concentraciones de contaminantes se miden con un valor llamado el Índice de Calidad del Aire (ICA).\n",
    "                     <img src=\"https://openedx.edunext.co/asset-v1:MT-Uninorte+P1+2020+type@asset+block@ICA.PNG\" alt=\"ICA\"> \n",
    "                    \n",
    "Escribe un programa que capture el ICA y muestre el la clasificación según el valor ingresado"
   ]
  },
  {
   "cell_type": "code",
   "execution_count": 2,
   "metadata": {},
   "outputs": [
    {
     "data": {
      "text/plain": [
       "0"
      ]
     },
     "execution_count": 2,
     "metadata": {},
     "output_type": "execute_result"
    }
   ],
   "source": [
    "def reto2(indice):\n",
    "    # Escribe tu código aquí. Manten la indentación!!\n",
    "    \n",
    "    return 0 # Reemplaza 0 por la variable que tiene el resultado\n",
    "\n",
    "reto2(150) "
   ]
  },
  {
   "cell_type": "markdown",
   "metadata": {},
   "source": [
    "### Reto del día 3 \n",
    "\n",
    "Crea un programa que le solicite dos nombres al usuario e imprima solo el primero en orden alfabetico."
   ]
  },
  {
   "cell_type": "code",
   "execution_count": 3,
   "metadata": {},
   "outputs": [
    {
     "name": "stdout",
     "output_type": "stream",
     "text": [
      "Ana\n"
     ]
    },
    {
     "data": {
      "text/plain": [
       "'Ana'"
      ]
     },
     "execution_count": 3,
     "metadata": {},
     "output_type": "execute_result"
    }
   ],
   "source": [
    "def reto3(nombre1, nombre2):\n",
    "    nombres = [nombre1, nombre2]\n",
    "    ordenado = sorted(nombres)\n",
    "    print(ordenado[0])\n",
    "    return ordenado[0]\n",
    "    \n",
    "reto3(\"Pedro\", \"Ana\") "
   ]
  },
  {
   "cell_type": "code",
   "execution_count": null,
   "metadata": {},
   "outputs": [],
   "source": []
  }
 ],
 "metadata": {
  "kernelspec": {
   "display_name": "Python 3",
   "language": "python",
   "name": "python3"
  },
  "language_info": {
   "codemirror_mode": {
    "name": "ipython",
    "version": 3
   },
   "file_extension": ".py",
   "mimetype": "text/x-python",
   "name": "python",
   "nbconvert_exporter": "python",
   "pygments_lexer": "ipython3",
   "version": "3.7.6"
  }
 },
 "nbformat": 4,
 "nbformat_minor": 4
}
