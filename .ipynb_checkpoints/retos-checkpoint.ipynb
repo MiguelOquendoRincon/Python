{
 "cells": [
  {
   "cell_type": "markdown",
   "metadata": {
    "id": "vdVKCimb5ME_"
   },
   "source": [
    "## Retos del día\n",
    "\n",
    "<b>INFORMACIÓN IMPORTANTE:</b> Recuerda que los retos del día son una oportunidad de reforzar los conocimientos adquiridos en esta sesión teórica y adicionalmente sirven para modificar, practicar y aprender a considerar soluciones alternas. Por este motivo, es importante no sólo usar el contenido de la sesión síncrona y preguntar a los monitores, sino también buscar en Internet soluciones viables a los problemas planteados. \n",
    "\n",
    "Recuerda que tienes hasta la media noche para enviar el reto, así que toma el tiempo necesario para analizar y desarrollar tu solución. Lo más importante antes de empezar a programar es pensar en el algoritmo que vas a utilizar. Cuales son los pasos para solucionar el problema? La implementación y las funciones a usar se pueden encontrar una vez esto este claro.\n",
    "\n",
    "\n",
    "### Reto del día 1\n",
    "Escribe un programa usando el ciclo Mientras Que (while) que, dado un número por parte del usuario genere la tabla de multiplicar del 1 al 12 para ese número. \n",
    "\n",
    "Por ejemplo: Si enviamos el valor=3 el algoritmo devolvera:\n",
    "\n",
    "3  \n",
    "6  \n",
    "9  \n",
    "12  \n",
    "15  \n",
    "18  \n",
    "21  \n",
    "24  \n",
    "27  \n",
    "30  \n",
    "33  \n",
    "36  "
   ]
  },
  {
   "cell_type": "code",
   "execution_count": 10,
   "metadata": {
    "id": "G2nx9cy95MFD",
    "outputId": "fd8ab84a-0c19-4d52-a2bf-03d7cdc6d2a9"
   },
   "outputs": [
    {
     "name": "stdout",
     "output_type": "stream",
     "text": [
      "3\n",
      "6\n",
      "9\n",
      "12\n",
      "15\n",
      "18\n",
      "21\n",
      "24\n",
      "27\n",
      "30\n",
      "33\n",
      "36\n"
     ]
    }
   ],
   "source": [
    "def reto1(numero):\n",
    "    contador = 1\n",
    "    while (contador <= 12):\n",
    "        num = numero*contador\n",
    "        print(num)\n",
    "        contador = contador + 1\n",
    "\n",
    "reto1(3)    "
   ]
  },
  {
   "cell_type": "markdown",
   "metadata": {
    "id": "GBKKuvtM5MFT"
   },
   "source": [
    "### Reto del día 2\n",
    "Escribe un programa que calcule el factorial de un número ingresado por el usuario. \n",
    "\n",
    "Pista: El factorial de un número es la multiplicación del 1 hasta el número; 4! = 1 * 2 * 3 * 4 = 24. \n",
    "Si aún tienes dudas busca en Google u otro motor de búsqueda la definición de factorial. "
   ]
  },
  {
   "cell_type": "code",
   "execution_count": 39,
   "metadata": {
    "id": "OSiwf_-L5MFV"
   },
   "outputs": [
    {
     "name": "stdout",
     "output_type": "stream",
     "text": [
      "24\n"
     ]
    }
   ],
   "source": [
    "def reto2(numero):\n",
    "    contador, z = 1,1\n",
    "    while z <= numero:\n",
    "        contador = contador * z\n",
    "        z = z + 1\n",
    "    print(contador)\n",
    "\n",
    "reto2(4)"
   ]
  },
  {
   "cell_type": "markdown",
   "metadata": {
    "id": "xmHrF7gR5MFj"
   },
   "source": [
    "### Reto del día 3\n",
    "El siguiente reto busca reunir conceptos de las dos semanas de trabajo. Lee cuidadosamente el enunciado y recuerda analizar la solución antes de empezar a programar.\n",
    "\n",
    "Martha ha diseñado un juego para que reciba un valor y un total de vidas y determine si un jugador Gana o Pierde. El número de vidas, determina el total de números que se van a utilizar en el cálculo de forma regresiva comenzando desde el valor entregado. Se determina el promedio y si ese promedio es divisible por 2, la persona gana sino, pierde.\n",
    "\n",
    "Por ejemplo, si enviamos el valor = 27 y un total de vidas = 4, el juego calcularía el promedio de (27+26+25+24)/4 = 25.5. 25.5 no es divisible por 2 así que el juego retornaría \"Pierde\". Pero si enviaramos el valor = 15  y el total de vidas = 7, (15+14+13+12+11+10+9)/7 = 12. 12 es divisible por 2 así que el juego retornaría \"Gana\".\n",
    "\n",
    "Diseña el código para que un jugador que desconoce las reglas envíe el valor y el número de vidas y le retorne si Gana o Pierde. \n",
    "\n",
    "Pista: El ciclo se ejecutará tantas veces como vidas haya ingresado el jugador. "
   ]
  },
  {
   "cell_type": "code",
   "execution_count": 76,
   "metadata": {
    "id": "2W3oSsBp5MFl"
   },
   "outputs": [
    {
     "data": {
      "text/plain": [
       "'Pierde'"
      ]
     },
     "execution_count": 76,
     "metadata": {},
     "output_type": "execute_result"
    }
   ],
   "source": [
    "def reto3(valor, vidas):\n",
    "    if(vidas>0):\n",
    "        contador, cont2, suma = 0, vidas, 0\n",
    "        while(cont2>0):\n",
    "            contador = contador + 1\n",
    "            suma = suma + (valor+1) - contador\n",
    "            cont2 = cont2 - 1\n",
    "        prom = suma/vidas\n",
    "        if(prom%2 == 0):\n",
    "            return 'Gana'\n",
    "        else:\n",
    "            return 'Pierde' \n",
    "    else:\n",
    "        return 'El numero de vidas debe ser mayor a 0'\n",
    "reto3(27,4)"
   ]
  },
  {
   "cell_type": "code",
   "execution_count": null,
   "metadata": {},
   "outputs": [],
   "source": []
  }
 ],
 "metadata": {
  "colab": {
   "name": "Sesion-7-retos.ipynb",
   "provenance": []
  },
  "kernelspec": {
   "display_name": "Python 3",
   "language": "python",
   "name": "python3"
  },
  "language_info": {
   "codemirror_mode": {
    "name": "ipython",
    "version": 3
   },
   "file_extension": ".py",
   "mimetype": "text/x-python",
   "name": "python",
   "nbconvert_exporter": "python",
   "pygments_lexer": "ipython3",
   "version": "3.7.6"
  }
 },
 "nbformat": 4,
 "nbformat_minor": 1
}
