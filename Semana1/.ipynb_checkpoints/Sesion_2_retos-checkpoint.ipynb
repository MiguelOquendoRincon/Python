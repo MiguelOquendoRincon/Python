{
 "cells": [
  {
   "cell_type": "markdown",
   "metadata": {},
   "source": [
    "## Retos del día\n",
    "\n",
    "Los retos del día están diseñados para permitirte practicar los conceptos aprendidos y empezar a explorar el lenguaje de programación. \n",
    "\n",
    "Recuerda tomar el tiempo en analizar y planear la solución antes de empezar a programar!\n",
    "\n",
    "### Reto del día 1\n",
    "\n",
    "Escribe un algoritmo que lea un número de 4 dígitos y lo invierta."
   ]
  },
  {
   "cell_type": "code",
   "execution_count": 20,
   "metadata": {},
   "outputs": [
    {
     "name": "stdout",
     "output_type": "stream",
     "text": [
      "El numero Invertido es 4321\n"
     ]
    },
    {
     "data": {
      "text/plain": [
       "4321"
      ]
     },
     "execution_count": 20,
     "metadata": {},
     "output_type": "execute_result"
    }
   ],
   "source": [
    "def reto1(x):\n",
    "    num = str(x)\n",
    "    a, b, c, d = num[0], num[1], num[2], num[3]\n",
    "    numComp = d+c+b+a\n",
    "    numInver = int(numComp, base=10)\n",
    "    print('El numero Invertido es ' + numComp)\n",
    "    return numInver\n",
    "\n",
    "reto1(1234) "
   ]
  },
  {
   "cell_type": "markdown",
   "metadata": {},
   "source": [
    "### Reto del día 2\n",
    "\n",
    "En una alcancía se tienen monedas de 50, 100, 200 y 500 pesos. Escriba el algoritmo que permita averiguar cuánto dinero hay en la alcancía. En este caso, pregunta al usuario que ingrese el número de monedas de cada denominación.\n"
   ]
  },
  {
   "cell_type": "code",
   "execution_count": 34,
   "metadata": {},
   "outputs": [
    {
     "name": "stdout",
     "output_type": "stream",
     "text": [
      "Ingrese la cantidad de monedas de 50: 10\n",
      "Ingrese la cantidad de monedas de 100: 60\n",
      "Ingrese la cantidad de monedas de 200: 1\n",
      "Ingrese la cantidad de monedas de 500: 1\n",
      "Las monedas de 50 son: 10\n",
      "Las monedas de 100 son: 60\n",
      "Las monedas de 200 son: 1\n",
      "Las monedas de 500 son: 1\n",
      "El total es: 7200\n"
     ]
    },
    {
     "data": {
      "text/plain": [
       "7200"
      ]
     },
     "execution_count": 34,
     "metadata": {},
     "output_type": "execute_result"
    }
   ],
   "source": [
    "def reto2(a,b,c,d):\n",
    "    a = int((input('Ingrese la cantidad de monedas de 50: ')))\n",
    "    b = int((input('Ingrese la cantidad de monedas de 100: ')))\n",
    "    c = int((input('Ingrese la cantidad de monedas de 200: ')))\n",
    "    d = int((input('Ingrese la cantidad de monedas de 500: ')))\n",
    "    mon5 = a * 50\n",
    "    mon10 = b * 100\n",
    "    mon20 = c * 200\n",
    "    mon50 = d * 500\n",
    "    total = mon5 + mon10+ mon20+mon50\n",
    "    print('Las monedas de 50 son: ' + str(a))\n",
    "    print('Las monedas de 100 son: ' + str(b))\n",
    "    print('Las monedas de 200 son: ' + str(c))\n",
    "    print('Las monedas de 500 son: ' + str(d))\n",
    "    print('El total es: ' + str(total))\n",
    "    return total\n",
    "\n",
    "reto2(1,2,1,2)"
   ]
  },
  {
   "cell_type": "markdown",
   "metadata": {},
   "source": [
    "### Reto del día 3\n",
    "Escribe el código para obtener la raiz cuadrada de x, asigna el resultado a una variable b y redondea este valor a cero decimales. Imprime b\n"
   ]
  },
  {
   "cell_type": "code",
   "execution_count": 32,
   "metadata": {},
   "outputs": [
    {
     "data": {
      "text/plain": [
       "5.0"
      ]
     },
     "execution_count": 32,
     "metadata": {},
     "output_type": "execute_result"
    }
   ],
   "source": [
    "from math import sqrt\n",
    "def reto3(x):\n",
    "    raiz = sqrt(x)\n",
    "    b = round(raiz, 0)\n",
    "    return b\n",
    "\n",
    "reto3(25)"
   ]
  },
  {
   "cell_type": "markdown",
   "metadata": {},
   "source": [
    "### Reto del día 4\n",
    "La ejecución del siguiente código puede ser incorrecta si el usuario no ingresa el numero de la forma correcta. Modifica el código para que devuelva la suma de las dos variables\n"
   ]
  },
  {
   "cell_type": "code",
   "execution_count": 33,
   "metadata": {},
   "outputs": [
    {
     "data": {
      "text/plain": [
       "8"
      ]
     },
     "execution_count": 33,
     "metadata": {},
     "output_type": "execute_result"
    }
   ],
   "source": [
    "def reto4(x,y):\n",
    "    resultado = int(x, base=10) + int(y, base=10)\n",
    "    return resultado\n",
    "\n",
    "reto4(\"4\",\"4\")"
   ]
  },
  {
   "cell_type": "code",
   "execution_count": null,
   "metadata": {},
   "outputs": [],
   "source": []
  }
 ],
 "metadata": {
  "kernelspec": {
   "display_name": "Python 3",
   "language": "python",
   "name": "python3"
  },
  "language_info": {
   "codemirror_mode": {
    "name": "ipython",
    "version": 3
   },
   "file_extension": ".py",
   "mimetype": "text/x-python",
   "name": "python",
   "nbconvert_exporter": "python",
   "pygments_lexer": "ipython3",
   "version": "3.7.6"
  }
 },
 "nbformat": 4,
 "nbformat_minor": 4
}
