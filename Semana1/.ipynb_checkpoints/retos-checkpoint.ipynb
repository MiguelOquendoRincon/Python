{
 "cells": [
  {
   "cell_type": "markdown",
   "metadata": {},
   "source": [
    "## Retos del día\n",
    "\n",
    "Los retos del día están diseñados para permitirte practicar los conceptos aprendidos y empezar a explorar el lenguaje de programación. \n",
    "\n",
    "Recuerda tomar el tiempo en analizar y planear la solución antes de empezar a programar!\n",
    "\n",
    "### Reto del día 1\n",
    "\n",
    "Escribe el código que lea las cuatro notas de un estudiante (Cada nota en la escala entre 1 y 5) e imprima el promedio de las mismas."
   ]
  },
  {
   "cell_type": "code",
   "execution_count": 1,
   "metadata": {},
   "outputs": [
    {
     "name": "stdout",
     "output_type": "stream",
     "text": [
      "Para las notas 1.5,4.2,3.8,3.6 el promedio es: 3.275\n"
     ]
    },
    {
     "data": {
      "text/plain": [
       "3.275"
      ]
     },
     "execution_count": 1,
     "metadata": {},
     "output_type": "execute_result"
    }
   ],
   "source": [
    "def reto1(x,y,z,w):\n",
    "    if(x<1 or x>5 or y<1 or y>5 or z<1 or z>5 or w<1 or w>5):\n",
    "        print('Solo se permiten notas entre 1 y 5')\n",
    "    else:\n",
    "        prom = (x+y+z+w)/4\n",
    "        print('Para las notas ' + str(x) + ',' + str(y) + ',' + str(z) + ',' + str(w) + ' el promedio es: ' + str(prom))\n",
    "        return prom\n",
    "    \n",
    "reto1(1.5,4.2,3.8,3.6)"
   ]
  },
  {
   "cell_type": "markdown",
   "metadata": {},
   "source": [
    "### Reto del día 2\n",
    "\n",
    "Escribe el código para leer un número entero x e imprime el número de dígitos de x. Por ejemplo, 345 tiene 3 dígitos y 4000 tiene 4 dígitos."
   ]
  },
  {
   "cell_type": "code",
   "execution_count": 2,
   "metadata": {},
   "outputs": [
    {
     "name": "stdout",
     "output_type": "stream",
     "text": [
      "El número digitado es 3586 y tiene 4 dígitos.\n"
     ]
    },
    {
     "data": {
      "text/plain": [
       "4"
      ]
     },
     "execution_count": 2,
     "metadata": {},
     "output_type": "execute_result"
    }
   ],
   "source": [
    "def reto2(x):\n",
    "    long = len(str(x))\n",
    "    print('El número digitado es ' + str(x) + ' y tiene ' + str(long) + ' dígitos.')\n",
    "    return long\n",
    "\n",
    "reto2(3586)"
   ]
  },
  {
   "cell_type": "markdown",
   "metadata": {},
   "source": [
    "### Reto del día 3\n",
    "\n",
    "Escribe el código para leer un número entero e imprime el último dígito."
   ]
  },
  {
   "cell_type": "code",
   "execution_count": 3,
   "metadata": {},
   "outputs": [
    {
     "name": "stdout",
     "output_type": "stream",
     "text": [
      "El número digitado es 631 y su ultimo caracter es 1\n"
     ]
    },
    {
     "data": {
      "text/plain": [
       "1"
      ]
     },
     "execution_count": 3,
     "metadata": {},
     "output_type": "execute_result"
    }
   ],
   "source": [
    "def reto3(x):\n",
    "    num = str(x)\n",
    "    ult = num[-1:]\n",
    "    print('El número digitado es ' + num + ' y su ultimo caracter es ' + ult)\n",
    "    return int(ult, base=10)\n",
    "\n",
    "reto3(631)"
   ]
  },
  {
   "cell_type": "markdown",
   "metadata": {},
   "source": [
    "### Reto del día 4\n",
    "\n",
    "Escribe el código para leer dos números enteros(x, y) de dos dígitos y determina a cuánto es igual la suma de todos los dígitos. Imprime el resultado.\n"
   ]
  },
  {
   "cell_type": "code",
   "execution_count": 4,
   "metadata": {},
   "outputs": [
    {
     "name": "stdout",
     "output_type": "stream",
     "text": [
      "El primer numero es 31\n",
      "El segundo numero es 42\n",
      "La suma de sus digitos es 10\n"
     ]
    },
    {
     "data": {
      "text/plain": [
       "10"
      ]
     },
     "execution_count": 4,
     "metadata": {},
     "output_type": "execute_result"
    }
   ],
   "source": [
    "def reto4(x,y):\n",
    "    num1, num2 = str(x), str(y)\n",
    "    t11, t12 = int(num1[0], base=10), int(num1[1], base=10)\n",
    "    t21, t22 = int(num2[0], base=10), int(num2[1], base=10)\n",
    "    suma = t11 + t12 + t21 + t22\n",
    "    print ('El primer numero es ' + num1)\n",
    "    print ('El segundo numero es ' + num2)\n",
    "    print ('La suma de sus digitos es ' + str(suma))\n",
    "    return suma\n",
    "\n",
    "reto4(31,42)"
   ]
  }
 ],
 "metadata": {
  "kernelspec": {
   "display_name": "Python 3",
   "language": "python",
   "name": "python3"
  },
  "language_info": {
   "codemirror_mode": {
    "name": "ipython",
    "version": 3
   },
   "file_extension": ".py",
   "mimetype": "text/x-python",
   "name": "python",
   "nbconvert_exporter": "python",
   "pygments_lexer": "ipython3",
   "version": "3.7.6"
  }
 },
 "nbformat": 4,
 "nbformat_minor": 4
}
