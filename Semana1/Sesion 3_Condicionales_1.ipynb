{
 "cells": [
  {
   "cell_type": "markdown",
   "metadata": {},
   "source": [
    "# Fundamentos de Programación con Python\n",
    "\n",
    "Estos Notebooks fueron creados por profesores y diseñadores de contenido de la Universidad del Norte, en Barranquilla - Colombia.\n",
    "\n",
    "Todos estos materiales cuentan con una licencia <b>Creative Commons</b> de libre uso con atribución.\n",
    "\n",
    "## Condicionales\n",
    "\n",
    "### Si-Sino-Finsi\n",
    "Recuerda que los condicionales nos permiten decidir qué instrucciones ejecutar y cuales no. El condicional Si-Sino-Finsi tiene la siguiente estructura:\n",
    "\n",
    "    Si (condición) Entonces\n",
    "        instrucción(es)\n",
    "    Sino\n",
    "        instrucción(es)\n",
    "    Fin Si\n",
    "\n",
    "En Python, esto se escribe un poco diferente y la estructura general depende de las tabulaciónes. Por ejemplo:"
   ]
  },
  {
   "cell_type": "code",
   "execution_count": null,
   "metadata": {},
   "outputs": [],
   "source": [
    "x = int(input(\"Por favor ingresa un número: \"))\n",
    "if x<0:\n",
    "    print('X es Negativo')\n",
    "else:\n",
    "    print('X es positivo')\n",
    "\n",
    "print('Esto ya está por fuera del condicional') #Esta fuera porque ya no hay tabulación"
   ]
  },
  {
   "cell_type": "markdown",
   "metadata": {},
   "source": [
    "¿Qué pasa si X es 0? ¿Imprimirá positivo o negativo? ¿Cómo podríamos arreglar este programa para que si X es cero, imprima \"X es cero\"?\n",
    "\n"
   ]
  },
  {
   "cell_type": "code",
   "execution_count": null,
   "metadata": {},
   "outputs": [],
   "source": []
  },
  {
   "cell_type": "markdown",
   "metadata": {},
   "source": [
    "<b>Sino-Si</b>\n",
    "\n",
    "En algunos casos nos puede interesar volver a preguntar algo luego del \"Sino\" . En Python, esto se puede hacer utlizando la condición \"elif\".\n",
    "\n",
    "Escribe nuevamente el código que evalúa si X es cero utilizando elif."
   ]
  },
  {
   "cell_type": "code",
   "execution_count": null,
   "metadata": {},
   "outputs": [],
   "source": []
  },
  {
   "cell_type": "markdown",
   "metadata": {},
   "source": [
    "### Operadores lógicos en Python\n",
    "\n",
    "Antes de pasar a usar condicionales, debemos entender como manejar los operadores lógicos (y/o) en Python para poder evaluar múltiples expresiones al tiempo.\n",
    "\n",
    "En Python, los operadores lógicos son las palabras en inglés: and y or. Estos operadores nos permiten analizar múltiples expresiones. \n",
    "\n",
    "<table>\n",
    "<thead><tr>\n",
    "<th>P    </th>\n",
    "<th>Q    </th>\n",
    "<th>P And Q</th>\n",
    "<th>P Or Q</th>\n",
    "</tr>\n",
    "</thead>\n",
    "<tbody>\n",
    "<tr>\n",
    "<td>V</td>\n",
    "<td>V</td>\n",
    "<td>V</td>\n",
    "<td>V</td>\n",
    "</tr>\n",
    "<tr>\n",
    "<td>V</td>\n",
    "<td>F</td>\n",
    "<td>F</td>\n",
    "<td>V</td>\n",
    "</tr>\n",
    "<tr>\n",
    "<td>F</td>\n",
    "<td>V</td>\n",
    "<td>F</td>\n",
    "<td>V</td>\n",
    "</tr>\n",
    "<tr>\n",
    "<td>F</td>\n",
    "<td>F</td>\n",
    "<td>F</td>\n",
    "<td>F</td>\n",
    "</tr>\n",
    "</tbody></table>\n",
    "\n",
    "Aquí está el código Python que evalúa las expresiones"
   ]
  },
  {
   "cell_type": "code",
   "execution_count": null,
   "metadata": {},
   "outputs": [],
   "source": [
    "print((True and True),(True or True))\n",
    "print((True and False),(True or False))\n",
    "print((False and True), (False or True))\n",
    "print((False and False),(False or False))\n"
   ]
  },
  {
   "cell_type": "markdown",
   "metadata": {},
   "source": [
    "### Actividad 1\n",
    "\n",
    "Ahora vamos a usar estos operadores para pasar los siguientes pseudo-códigos con condicionales a Python\n",
    "\n",
    "Inicio\n",
    "    \n",
    "    a = leer()\n",
    "    b = leer()\n",
    "    \n",
    "    Si a>2 & b<4 Entonces\n",
    "        imprimir a\n",
    "    Fin Si\n",
    "Fin\n",
    "\n",
    "Inicio\n",
    "\n",
    "    a = leer()\n",
    "    b = leer()\n",
    "\n",
    "    Si a>2 | b<4 Entonces\n",
    "        imprimir a\n",
    "    Fin Si\n",
    "Fin"
   ]
  },
  {
   "cell_type": "code",
   "execution_count": null,
   "metadata": {},
   "outputs": [],
   "source": []
  },
  {
   "cell_type": "markdown",
   "metadata": {},
   "source": [
    "### Actividad 2\n",
    "\n",
    "Ahora vamos a realizar un código utilizando el condicional doble (incluyendo Sino). La luz de un semáforo tiene las siguientes interpretaciones:\n",
    "\n",
    "1.  Verde = Siga \n",
    "2.  Amarillo = Precaución\n",
    "3.  Rojo = Pare\n",
    "\n",
    "Realicemos ahora el código para obtener la acción de acuerdo al color del semáforo.\n"
   ]
  },
  {
   "cell_type": "code",
   "execution_count": null,
   "metadata": {},
   "outputs": [],
   "source": []
  },
  {
   "cell_type": "markdown",
   "metadata": {},
   "source": [
    "### Actividad 3\n",
    "\n",
    "Recordemos uno de los retos de la primera sesión: \"Escribe el código para leer un número entero e imprime el último dígito.\"\n",
    "\n",
    "Ahora, vamos a modificar este código para imprimir SI si el último dígito es 4."
   ]
  },
  {
   "cell_type": "code",
   "execution_count": null,
   "metadata": {},
   "outputs": [],
   "source": []
  },
  {
   "cell_type": "markdown",
   "metadata": {},
   "source": [
    "## Reto de la semana\n",
    "\n",
    "Esta semana, el objetivo es diseñar un menú con las siguientes 4 funciones:\n",
    "\n",
    "1.  Leer un número de 4 dígitos, mostrar el dígito mayor e informar si es par o impar.\n",
    "2.  Leer dos números de 3 dígitos cada uno, formar un tercer número con el mayor del primero y el menor del segundo.\n",
    "3.  Leer un número de 3 dígitos y formar el mayor número posible con sus cifras.\n",
    "4. Salir\n",
    "\n",
    "## Retos del día\n",
    "\n",
    "Consideraciones para los retos del día:\n",
    "\n",
    "    1. El archivo con los retos del día puede ser descargado en la página del curso. Vayan a la sesión indiciada y busquen la opción Retos del día.\n",
    "    2. El archivo lo deben subir a Mybinder para poder manipularlo\n",
    "    3. Deben guardar el archivo a subir como retos.ipnyb - OJO, sino tiene este nombre no ejecutará y no podrá revisarse automáticamente"
   ]
  }
 ],
 "metadata": {
  "kernelspec": {
   "display_name": "Python 3",
   "language": "python",
   "name": "python3"
  },
  "language_info": {
   "codemirror_mode": {
    "name": "ipython",
    "version": 3
   },
   "file_extension": ".py",
   "mimetype": "text/x-python",
   "name": "python",
   "nbconvert_exporter": "python",
   "pygments_lexer": "ipython3",
   "version": "3.7.8"
  }
 },
 "nbformat": 4,
 "nbformat_minor": 4
}
