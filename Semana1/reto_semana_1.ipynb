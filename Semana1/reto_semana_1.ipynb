{
 "cells": [
  {
   "cell_type": "markdown",
   "metadata": {},
   "source": [
    "## Reto de la semana \n",
    "\n",
    "Es tiempo de medir tus habilidades. La solución para tu cliente, Transportes del Norte, requiere de la construcción de una interfaz mediante la que el usuario ha de interactuar (interfaz humano-máquina). Iniciemos entonces con la construcción de un pequeño Menú de selección, que ofrezca las siguientes opciones:\n",
    "\n",
    "1.  Leer un número de 4 dígitos, mostrar el dígito mayor e informar si es par o impar.\n",
    "2.  Leer dos números de 3 dígitos cada uno, formar un tercer número con el mayor del primero y el menor del segundo.\n",
    "3.  Leer un número de 3 dígitos y formar el mayor número posible con sus cifras.\n",
    "4. Salir\n"
   ]
  },
  {
   "cell_type": "code",
   "execution_count": 33,
   "metadata": {},
   "outputs": [
    {
     "data": {
      "text/plain": [
       "43"
      ]
     },
     "execution_count": 33,
     "metadata": {},
     "output_type": "execute_result"
    }
   ],
   "source": [
    "def menu(option,num1,num2):\n",
    "    if option is 1:\n",
    "        return(op1(num1))\n",
    "    elif option is 2:\n",
    "        return(op2(num1,num2))\n",
    "    elif option is 3:\n",
    "        return(op3(num1))\n",
    "    elif option is 4:\n",
    "        return(op4())\n",
    "\n",
    "def op1(num1):\n",
    "    numero = str(num1)\n",
    "    n11, n12, n13, n14 = int(numero[0], base=10), int(numero[1], base=10), int(numero[2], base=10)\n",
    "    if n11>n12 and n11>n13:\n",
    "        if(n11%2 ==0):\n",
    "            esPar = \"Par\"\n",
    "        else:\n",
    "            esPar = \"Impar\"\n",
    "        mayor = n11\n",
    "    if n12>n11 and n12>n13:\n",
    "        if(n12%2 ==0):\n",
    "            esPar = \"Par\"\n",
    "        else:\n",
    "            esPar = \"Impar\"\n",
    "        mayor = n12\n",
    "    if n13>n11 and n13>n12:\n",
    "        if(n13%2 ==0):\n",
    "            esPar = \"Par\"\n",
    "        else:\n",
    "            esPar = \"Impar\"\n",
    "        mayor = n13\n",
    "    return(mayor, esPar)     \n",
    "\n",
    "\n",
    "def op2(num1, num2):\n",
    "    numero1, numero2 = str(num1), str(num2)\n",
    "    mayor1 = max(numero1[0], numero1[1], numero1[2])\n",
    "    mayor2 = max(numero2[0], numero2[1], numero2[2])\n",
    "    may = mayor1 + mayor2\n",
    "    mayor = int(may, base=10)\n",
    "    return mayor\n",
    "\n",
    "def op3(num1):\n",
    "    numero1 = str(num1)\n",
    "    ordenado = sorted(numero1, reverse=True)\n",
    "    may = ordenado[0]+ordenado[1]+ordenado[2]\n",
    "    mayor = int(may, base=10)\n",
    "    return mayor\n",
    "\n",
    "def op4():\n",
    "    return 'Salir'\n",
    "    \n",
    "\n",
    "menu(2,234,323)\n"
   ]
  },
  {
   "cell_type": "markdown",
   "metadata": {},
   "source": [
    "### EJEMPLO: \n",
    "La función menu(option, num1 , num2), recibe 3 parametros:  el primer parametro determina la opción del menú, el segundo el número 1 (num1) usado para las opciones 1 (op1) y 3 (op3), el tercero es el número 2 (num2) usado para la opción 2 (op2) que pide 2 números.  \n",
    "\n",
    "Para este caso, la salida del algoritmo si usamos la función menu(1,2345,0), es la siguiente: "
   ]
  },
  {
   "cell_type": "code",
   "execution_count": 2,
   "metadata": {},
   "outputs": [
    {
     "data": {
      "text/plain": [
       "(5, 'impar')"
      ]
     },
     "execution_count": 2,
     "metadata": {},
     "output_type": "execute_result"
    }
   ],
   "source": [
    "def menu(option,num1,num2):\n",
    "   \n",
    "   return(op1(num1)) \n",
    "\n",
    "def op1(num1):    \n",
    "    \n",
    "        return(5, \"impar\")     #Salida con ese formato : 5,'impar'\n",
    "              \n",
    "def op2(num1, num2): \n",
    "       \n",
    "        return 80 # Salida un numero conformado por el digito mayor de num1 y el menor de num2\n",
    "\n",
    "def op3(num1):\n",
    "    \n",
    "      return 320 # Salida numero de 3 digitos ordenados de mayor a menor \n",
    "\n",
    "def op4():\n",
    "    \n",
    "     return \"Salir\" # Salida \"Salir\"\n",
    "    \n",
    "\n",
    "menu(1,2345,0) #Menu recibe como entrada; (opción = puede ser del 1 al 4 , numero 1, numero 2)\n"
   ]
  },
  {
   "cell_type": "code",
   "execution_count": null,
   "metadata": {},
   "outputs": [],
   "source": []
  }
 ],
 "metadata": {
  "kernelspec": {
   "display_name": "Python 3",
   "language": "python",
   "name": "python3"
  },
  "language_info": {
   "codemirror_mode": {
    "name": "ipython",
    "version": 3
   },
   "file_extension": ".py",
   "mimetype": "text/x-python",
   "name": "python",
   "nbconvert_exporter": "python",
   "pygments_lexer": "ipython3",
   "version": "3.7.6"
  }
 },
 "nbformat": 4,
 "nbformat_minor": 4
}
