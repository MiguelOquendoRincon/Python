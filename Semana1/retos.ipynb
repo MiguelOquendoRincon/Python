{
 "cells": [
  {
   "cell_type": "markdown",
   "metadata": {},
   "source": [
    "## Reto de la semana \n",
    "\n",
    "Es tiempo de medir tus habilidades. La solución para tu cliente, Transportes del Norte, requiere de la construcción de una interfaz mediante la que el usuario ha de interactuar (interfaz humano-máquina). Iniciemos entonces con la construcción de un pequeño Menú de selección, que ofrezca las siguientes opciones:\n",
    "\n",
    "1.  Leer un número de 4 dígitos, mostrar el dígito mayor e informar si es par o impar.\n",
    "2.  Leer dos números de 3 dígitos cada uno, formar un tercer número con el mayor del primero y el menor del segundo.\n",
    "3.  Leer un número de 3 dígitos y formar el mayor número posible con sus cifras.\n",
    "4. Salir\n"
   ]
  },
  {
   "cell_type": "code",
   "execution_count": 48,
   "metadata": {},
   "outputs": [
    {
     "data": {
      "text/plain": [
       "(4, 'par')"
      ]
     },
     "execution_count": 48,
     "metadata": {},
     "output_type": "execute_result"
    }
   ],
   "source": [
    "def menu(option,num1,num2):\n",
    "    MEN = {\n",
    "        1: op1(num1),\n",
    "        2: op2(num1,num2),\n",
    "        3: op3(num1),\n",
    "        4: op4()\n",
    "    }\n",
    "    return MEN.get(option)\n",
    "\n",
    "def op1(num1):\n",
    "    numero = str(num1)\n",
    "    ordenado = sorted(numero, reverse=True)\n",
    "    mayor = int(ordenado[0])\n",
    "    if(mayor%2 == 0):\n",
    "        esPar = 'par'\n",
    "    else:\n",
    "        esPar = 'impar'\n",
    "    return(mayor, esPar)     \n",
    "\n",
    "\n",
    "def op2(num1, num2):\n",
    "    numero1 = str(num1)\n",
    "    if(len(numero1)>=3):\n",
    "        numero2 = str(num2)\n",
    "        if(num2==0):\n",
    "            numero2 = '000'\n",
    "        mayor1 = max(numero1[0], numero1[1], numero1[2])\n",
    "        mayor2 = min(numero2[0], numero2[1], numero2[2])\n",
    "        may = mayor1 + mayor2\n",
    "        mayor = int(may, base=10)\n",
    "        return mayor\n",
    "\n",
    "def op3(num1):\n",
    "    numero1 = str(num1)\n",
    "    if(len(numero1)>=3):\n",
    "        ordenado = sorted(numero1, reverse=True)\n",
    "        may = ordenado[0]+ordenado[1]+ordenado[2]\n",
    "        mayor = int(may, base=10)\n",
    "        return mayor\n",
    "\n",
    "def op4():\n",
    "    return 'Salir'\n",
    "    \n",
    "menu(1,4312,0)"
   ]
  }
 ],
 "metadata": {
  "kernelspec": {
   "display_name": "Python 3",
   "language": "python",
   "name": "python3"
  },
  "language_info": {
   "codemirror_mode": {
    "name": "ipython",
    "version": 3
   },
   "file_extension": ".py",
   "mimetype": "text/x-python",
   "name": "python",
   "nbconvert_exporter": "python",
   "pygments_lexer": "ipython3",
   "version": "3.7.6"
  }
 },
 "nbformat": 4,
 "nbformat_minor": 4
}
