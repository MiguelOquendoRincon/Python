{
 "cells": [
  {
   "cell_type": "markdown",
   "metadata": {},
   "source": [
    "## Retos del día\n",
    "\n",
    "<b>INFORMACIÓN IMPORTANTE:</b> Recuerda que los retos del día son una oportunidad de reforzar los conocimientos adquiridos en esta sesión teórica y adicionalmente sirven para modificar, practicar y aprender a considerar soluciones alternas. Por este motivo, es importante no sólo usar el contenido de la sesión síncrona y preguntar a los monitores, sino también buscar en Internet soluciones viables a los problemas planteados. \n",
    "\n",
    "Recuerda que tienes hasta la media noche para enviar el reto, así que toma el tiempo necesario para analizar y desarrollar tu solución. Lo más importante antes de empezar a programar es pensar en el algoritmo que vas a utilizar. Cuales son los pasos para solucionar el problema? La implementación y las funciones a usar se pueden encontrar una vez esto este claro.\n",
    "\n",
    "\n",
    "### Reto del día 1\n",
    "Genera un código que dado un número, calcule la suma de los números pares menores al valor hasta el 0. El número se incluye en la suma sea o no par.\n",
    "\n",
    "Ejemplo:\n",
    "Si el usuario ingresa 21\n",
    "21+20+18+16+14+12+10+8+6+4+2 = 131\n",
    "\n",
    "Si el usuario ingresa 6\n",
    "6+4+2 = 12"
   ]
  },
  {
   "cell_type": "code",
   "execution_count": 8,
   "metadata": {},
   "outputs": [
    {
     "name": "stdout",
     "output_type": "stream",
     "text": [
      "131\n"
     ]
    }
   ],
   "source": [
    "def reto1(numero):\n",
    "    pares = 0\n",
    "    for i in range(2,numero):\n",
    "        if(i%2 == 0):\n",
    "            pares = i + pares\n",
    "    print(pares+numero)\n",
    "reto1(21)    "
   ]
  },
  {
   "cell_type": "markdown",
   "metadata": {},
   "source": [
    "### Reto del día 2\n",
    "\n",
    "Cuenta la historia que Cayo Julio César, uno de los más grandes militares de la antigua Roma, comunicaba las órdenes a sus generales en los campos de batalla mediante mensajes cifrados. La forma utilizada por Julio Cesar para cifrar sus mensajes (conocida con posterioridad como cifrado Cesar), consistía en escribir el mensaje y posteriormente desplazar cada letra tres posiciones a la derecha. \n",
    "\n",
    "Por ejemplo, utilizando nuestro alfabeto, el sistema quedaría así:\n",
    "\n",
    "Alfabeto original:       A B C D E F G H I J K L M N Ñ O P Q R S T U V W X Y Z\n",
    "Alfabeto cifrado:        D E F G H I J K L M N Ñ O P Q R S T U V W X Y Z A B C\n",
    "\n",
    "Así las cosas, si se deseaba enviar el mensaje, EL ATAQUE A LOS GALOS INICIA EL LUNES EN LA MAÑANA. lo que se enviará a los generales es: HÑ DWDTXH D ÑRV JDÑRV LPLFLD HÑ ÑXPHV HP ÑD ODQDPD\n",
    "\n",
    "Proponga una rutina que tome como entrada el mensaje a cifrar y devuelva el mensaje cifrado.\n",
    "\n",
    "Recomendaciones:\n",
    "1. Convierta el mensaje de entrada a mayúsculas, indiferentemente de cómo fueron escritos. Pista: Busca en Google u otro motor de busqueda\n",
    "2. Sólo se desplazan las letras, espacios, signos de puntuación, números y demás permanecen sin cambios\n",
    "3. Con los elementos aprendidos hasta el momento, considere la utlización de un Diccionario (como en el caso de Dependiendo De de la semana pasada) para obtener una letra cifrada dado una letra de entrada.  \n",
    "\n",
    "Ejemplos:\n",
    "\"EL ATAQUE A LOS GALOS INICIA EL LUNES EN LA MAÑANA\" devuelve \n",
    "HÑ DWDTXH D ÑRV JDÑRV LPLFLD HÑ ÑXPHV HP ÑD ODQDPD\n",
    "\n",
    "\"AYER ESTABA LLOVIENDO?\" devuelve \n",
    "DBHU HVWDED ÑÑRYLHPGR?"
   ]
  },
  {
   "cell_type": "code",
   "execution_count": 34,
   "metadata": {},
   "outputs": [
    {
     "name": "stdout",
     "output_type": "stream",
     "text": [
      "Ingrese la frase a cifrar: AYER ESTABA LLOVIENDO?\n",
      "Mensaje cifrado: DBHU HVWDED ÑÑRYLHPGR?\n"
     ]
    }
   ],
   "source": [
    "def reto2(frase):\n",
    "    abc, n, cifrado = \"ABCDEFGHIJKLMNÑOPQRSTUVWXYZ\", 3 , \"\"\n",
    "    for l in frase:\n",
    "        if l in abc:\n",
    "            pos_letra = abc.index(l)\n",
    "            nueva_pos = (pos_letra + n) % len(abc)\n",
    "            cifrado+= abc[nueva_pos]\n",
    "        else:\n",
    "            cifrado+= l\n",
    "\n",
    "    print(\"Mensaje cifrado:\", cifrado)\n",
    "\n",
    "reto2(input('Ingrese la frase a cifrar: ').upper())  "
   ]
  },
  {
   "cell_type": "markdown",
   "metadata": {},
   "source": [
    "### Reto del día 3\n",
    "Escribe un programa que reciba una frase y una letra, y muestre por pantalla el número de veces que aparece la letra en la frase (incluye minúsculas y mayúsculas).\n",
    "\n",
    "Ejemplo:\n",
    "\"Hoy es Jueves\", \"e\" devuelve\n",
    "3\n",
    "\n",
    "\"Aqui estamos todos\", \"a\" devuelve\n",
    "2"
   ]
  },
  {
   "cell_type": "code",
   "execution_count": 17,
   "metadata": {},
   "outputs": [
    {
     "name": "stdout",
     "output_type": "stream",
     "text": [
      "3\n"
     ]
    }
   ],
   "source": [
    "def reto3(frase, letra):\n",
    "    palabra =frase.lower()\n",
    "    letraLower = letra.lower()\n",
    "    numero = palabra.count(letraLower)\n",
    "    print(numero)\n",
    "\n",
    "reto3(\"Hoy es Jueves\",\"e\")"
   ]
  },
  {
   "cell_type": "code",
   "execution_count": null,
   "metadata": {},
   "outputs": [],
   "source": []
  }
 ],
 "metadata": {
  "kernelspec": {
   "display_name": "Python 3",
   "language": "python",
   "name": "python3"
  },
  "language_info": {
   "codemirror_mode": {
    "name": "ipython",
    "version": 3
   },
   "file_extension": ".py",
   "mimetype": "text/x-python",
   "name": "python",
   "nbconvert_exporter": "python",
   "pygments_lexer": "ipython3",
   "version": "3.7.6"
  }
 },
 "nbformat": 4,
 "nbformat_minor": 4
}
