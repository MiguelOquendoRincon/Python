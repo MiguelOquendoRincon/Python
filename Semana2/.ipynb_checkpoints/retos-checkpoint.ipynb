{
 "cells": [
  {
   "cell_type": "markdown",
   "metadata": {
    "id": "MLGM740a0FzY"
   },
   "source": [
    "## Retos del día\n",
    "\n",
    "<b>INFORMACIÓN IMPORTANTE:</b> Recuerda que los retos del día son una oportunidad de reforzar los conocimientos adquiridos en esta sesión teórica y adicionalmente sirven para modificar, practicar y aprender a considerar soluciones alternas. Por este motivo, es importante no sólo usar el contenido de la sesión síncrona y preguntar a los monitores, sino también buscar en Internet soluciones viables a los problemas planteados. \n",
    "\n",
    "Recuerda que tienes hasta la media noche para enviar el reto, así que toma el tiempo necesario para analizar y desarrollar tu solución. Lo más importante antes de empezar a programar es pensar en el algoritmo que vas a utilizar. Cuales son los pasos para solucionar el problema? La implementación y las funciones a usar se pueden encontrar una vez esto este claro.\n",
    "\n",
    "\n",
    "### Reto del día 1\n",
    "Un palíndromo también llamado palíndroma, es una palabra o frase que se lee igual en un sentido y en el otro. Escribe un programa que a través del manejo de ciclos, reciba una palabra y determine si es palindroma (True) o si no (False).\n",
    "\n",
    "Ejemplo: \n",
    "La palabra \"ala\" debería retornar True\n",
    "Pero la palabra \"carro\" False"
   ]
  },
  {
   "cell_type": "code",
   "execution_count": 58,
   "metadata": {
    "id": "98LHNGOC0FzZ",
    "outputId": "1712073d-c13f-48dd-894f-e2f589122c5a"
   },
   "outputs": [
    {
     "data": {
      "text/plain": [
       "True"
      ]
     },
     "execution_count": 58,
     "metadata": {},
     "output_type": "execute_result"
    }
   ],
   "source": [
    "def reto1(palabra):\n",
    "    # 1. Quitar acentos y signos de puntuación\n",
    "    tr = str.maketrans(\"áéíóúüñÁÉÍÓÚÜÑ.,;!¡¿?\", \"aeiouunAEIOUUN       \")\n",
    "    palabra = palabra.translate(tr)\n",
    "\n",
    "    # 2. Quitar espacios\n",
    "    palabra = \"\".join(palabra.split())\n",
    "\n",
    "    # 3. Pasar todo a minúsculas\n",
    "    palabra =palabra.lower()\n",
    "\n",
    "    # Comprobar resultado palindrómico\n",
    "    if palabra == palabra[::-1]:\n",
    "      return True\n",
    "    else:\n",
    "      return False\n",
    "\n",
    "reto1(\"ala\")    "
   ]
  },
  {
   "cell_type": "markdown",
   "metadata": {
    "id": "ieD-hvl_0Fze"
   },
   "source": [
    "### Reto del día 2\n",
    "\n",
    "Dado un número natural N, se calcula la raíz digital de N sumando los dígitos que lo componen. El proceso se repite sobre el nuevo número hasta que el resultado obtenido tiene un sólo dígito. Este último número es la raíz digital del número N.\n",
    "\n",
    "Ejemplo: Raíz digital (347) = 5.\n",
    "\n",
    "347\n",
    "3 + 4 + 7 = 14\n",
    "1 + 4 = 5"
   ]
  },
  {
   "cell_type": "code",
   "execution_count": 57,
   "metadata": {
    "id": "jNJttgG-0Fze"
   },
   "outputs": [
    {
     "data": {
      "text/plain": [
       "5"
      ]
     },
     "execution_count": 57,
     "metadata": {},
     "output_type": "execute_result"
    }
   ],
   "source": [
    "def reto2(numero):\n",
    "    num = list(map(int,str(numero)))\n",
    "    while(len(num)>1):\n",
    "        num = list(map(int,str(sum(num))))\n",
    "    raiz = num [0]\n",
    "    return raiz\n",
    "reto2(347)"
   ]
  },
  {
   "cell_type": "markdown",
   "metadata": {
    "id": "cbtUKgPL0Fzi"
   },
   "source": [
    "## Reto del día 3\n",
    "\n",
    "Un número primo es un número natural mayor que 1 que tiene únicamente dos divisores positivos distintos: él mismo y el 1. Con base a esto, escriba el código que reciba un número entero e imprima True si el número es primo, de lo contrario imprima False. \n",
    "\n",
    "Tenga en cuenta que si el número es menor o igual a 1, se retorna como resultado \"Error en el Número\".\n",
    "\n",
    "Ejemplo:\n",
    "11 retorna True\n",
    "9 retorna False"
   ]
  },
  {
   "cell_type": "code",
   "execution_count": 70,
   "metadata": {
    "id": "o__rRlBc0Fzj"
   },
   "outputs": [
    {
     "data": {
      "text/plain": [
       "'Error en el Número'"
      ]
     },
     "execution_count": 70,
     "metadata": {},
     "output_type": "execute_result"
    }
   ],
   "source": [
    "def reto3(numero):\n",
    "    if(numero>1):\n",
    "        if((numero%numero==0 and numero%1==0) and (numero%2==1 or numero%3==1 or numero%4==1 or numero%5==1 or numero%6==1 or numero%7==1 or numero%8==1 or numero%9==1)):\n",
    "            esPrimo = True\n",
    "        else:\n",
    "            esPrimo = False\n",
    "       \n",
    "        return esPrimo\n",
    "    else:\n",
    "        return 'Error en el Número'\n",
    "\n",
    "reto3(11)  "
   ]
  },
  {
   "cell_type": "code",
   "execution_count": null,
   "metadata": {},
   "outputs": [],
   "source": []
  }
 ],
 "metadata": {
  "colab": {
   "name": "Sesion-8-retos.ipynb",
   "provenance": []
  },
  "kernelspec": {
   "display_name": "Python 3",
   "language": "python",
   "name": "python3"
  },
  "language_info": {
   "codemirror_mode": {
    "name": "ipython",
    "version": 3
   },
   "file_extension": ".py",
   "mimetype": "text/x-python",
   "name": "python",
   "nbconvert_exporter": "python",
   "pygments_lexer": "ipython3",
   "version": "3.7.6"
  }
 },
 "nbformat": 4,
 "nbformat_minor": 1
}
