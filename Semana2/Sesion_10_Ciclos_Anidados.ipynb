{
 "cells": [
  {
   "cell_type": "markdown",
   "metadata": {},
   "source": [
    "# Fundamentos de Programación con Python\n",
    "\n",
    "Estos Notebooks fueron creados por profesores y diseñadores de contenido de la Universidad del Norte, en Barranquilla - Colombia.\n",
    "\n",
    "Todos estos materiales cuentan con una licencia <b>Creative Commons</b> de libre uso con atribución.\n",
    "\n",
    "## Ciclos Anidados\n",
    "\n",
    "Como vimos anteriormente podemos tener cualquiera de los ciclos presentados embebidos entre ellos. Recordemos el algoritmo de la sesión 7 para pedir números al usuario hasta que este ingrese -1."
   ]
  },
  {
   "cell_type": "code",
   "execution_count": 1,
   "metadata": {},
   "outputs": [
    {
     "name": "stdin",
     "output_type": "stream",
     "text": [
      "Ingrese un numero 2\n",
      "Ingrese un numero 3\n",
      "Ingrese un numero 4\n",
      "Ingrese un numero -1\n"
     ]
    }
   ],
   "source": [
    "numero = int(input(\"Ingrese un numero\"))\n",
    "\n",
    "while numero != -1:\n",
    "    numero = int(input(\"Ingrese un numero\")) "
   ]
  },
  {
   "cell_type": "markdown",
   "metadata": {},
   "source": [
    "Ahora vamos a modificar este código para que retorne el factorial de cada número ingresado usando un ciclo Para (For)."
   ]
  },
  {
   "cell_type": "code",
   "execution_count": 3,
   "metadata": {},
   "outputs": [
    {
     "name": "stdin",
     "output_type": "stream",
     "text": [
      "Ingrese un numero 3\n"
     ]
    },
    {
     "name": "stdout",
     "output_type": "stream",
     "text": [
      "6\n"
     ]
    },
    {
     "name": "stdin",
     "output_type": "stream",
     "text": [
      "Ingrese un numero 4\n"
     ]
    },
    {
     "name": "stdout",
     "output_type": "stream",
     "text": [
      "24\n"
     ]
    },
    {
     "name": "stdin",
     "output_type": "stream",
     "text": [
      "Ingrese un numero 5\n"
     ]
    },
    {
     "name": "stdout",
     "output_type": "stream",
     "text": [
      "120\n"
     ]
    },
    {
     "name": "stdin",
     "output_type": "stream",
     "text": [
      "Ingrese un numero -1\n"
     ]
    }
   ],
   "source": [
    "numero = int(input(\"Ingrese un numero\"))\n",
    "factorial = 1\n",
    "\n",
    "while numero != -1:   \n",
    "    for i in range(1,numero+1):\n",
    "        factorial = factorial * i\n",
    "    print(factorial)\n",
    "    \n",
    "    numero = int(input(\"Ingrese un numero\")) \n",
    "    factorial = 1\n",
    "        "
   ]
  },
  {
   "cell_type": "markdown",
   "metadata": {},
   "source": [
    "1. Por qué empezamos la variable factorial en 1?\n",
    "2. En este ciclo pasamos dos valores a range. Por qué crees que lo hacemos? Qué pasa si sólo pasamos el límite final?\n",
    "3. Al trabajar con ciclos, especialmente anidados, es muy importante reiniciar las variables. Qué pasa si no incluimos la última frase que vuelve factorial = 1?\n",
    "\n",
    "### Actividad 1\n",
    "\n",
    "Vamos a generar un programa que imprima la lista de los N primeros números primos, donde N es el dato de entrada."
   ]
  },
  {
   "cell_type": "code",
   "execution_count": null,
   "metadata": {},
   "outputs": [],
   "source": [
    "   "
   ]
  },
  {
   "cell_type": "markdown",
   "metadata": {},
   "source": [
    "### Actividad 2\n",
    "\n",
    "Implementa un algoritmo que reciba números ingresados por el usuario (hasta que este ingrese 0) y una potencia Y y calcule la potencia de cada número elevado a Y usando un ciclo de multiplicación."
   ]
  },
  {
   "cell_type": "code",
   "execution_count": null,
   "metadata": {},
   "outputs": [],
   "source": [
    "   "
   ]
  },
  {
   "cell_type": "markdown",
   "metadata": {},
   "source": [
    "### Actividad 3\n",
    " \n",
    "Ahora vamos a realizar un programa que imprima todas las combinaciones de los números del 1 al 5. Es decir\n",
    "1, 1\n",
    "1, 2\n",
    "1, 3\n",
    "1, 4\n",
    "1, 5\n",
    "2, 1\n",
    "2, 2\n",
    "2, 3\n",
    "etc...."
   ]
  },
  {
   "cell_type": "markdown",
   "metadata": {},
   "source": []
  },
  {
   "cell_type": "markdown",
   "metadata": {},
   "source": [
    "## Reto de la semana\n",
    "\n",
    "La definición del reto de esta semana está disponible en el LMS del curso. \n",
    "\n",
    "## Retos del día\n",
    "\n",
    "<b>INFORMACIÓN IMPORTANTE:</b> Recuerda que los retos del día son una oportunidad de reforzar los conocimientos adquiridos en esta sesión teórica y adicionalmente sirven para modificar, practicar y aprender a considerar soluciones alternas. Por este motivo, es importante no sólo usar el contenido de la sesión síncrona y preguntar a los monitores, sino también buscar en Internet soluciones viables a los problemas planteados. \n",
    "\n",
    "Recuerda que tienes hasta la media noche para enviar el reto, así que toma el tiempo necesario para analizar y desarrollar tu solución. Lo más importante antes de empezar a programar es pensar en el algoritmo que vas a utilizar. Cuales son los pasos para solucionar el problema? La implementación y las funciones a usar se pueden encontrar una vez esto este claro.\n",
    "\n",
    "Consideraciones para los retos del día:\n",
    "\n",
    "    1. El archivo con los retos del día puede ser descargado en la página del curso. Ve a la sesión indicada y busca la opción Retos del día.\n",
    "    2. El archivo lo deben subir a Google Collaboratory para poder manipularlo\n",
    "    3. Deben guardar el archivo a subir como retos.ipnyb - OJO, sino tiene este nombre no ejecutará y no podrá revisarse automáticamente"
   ]
  }
 ],
 "metadata": {
  "kernelspec": {
   "display_name": "Python 3",
   "language": "python",
   "name": "python3"
  },
  "language_info": {
   "codemirror_mode": {
    "name": "ipython",
    "version": 3
   },
   "file_extension": ".py",
   "mimetype": "text/x-python",
   "name": "python",
   "nbconvert_exporter": "python",
   "pygments_lexer": "ipython3",
   "version": "3.8.3"
  }
 },
 "nbformat": 4,
 "nbformat_minor": 4
}
