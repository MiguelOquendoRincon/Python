{
 "cells": [
  {
   "cell_type": "markdown",
   "metadata": {},
   "source": [
    "# Fundamentos de Programación con Python\n",
    "\n",
    "Estos Notebooks fueron creados por profesores y diseñadores de contenido de la Universidad del Norte, en Barranquilla - Colombia.\n",
    "\n",
    "Todos estos materiales cuentan con una licencia <b>Creative Commons</b> de libre uso con atribución.\n",
    "\n",
    "## Funciones\n",
    "\n",
    "La verdad es que hemos venido trabajando con funciones desde el comienzo en los retos diarios. En Python, definimos una función con la siguiente estructura\n",
    "\n",
    "    def funcion(parametros):\n",
    "\n",
    "\n",
    "Veamos una implementación simple. "
   ]
  },
  {
   "cell_type": "code",
   "execution_count": 1,
   "metadata": {},
   "outputs": [
    {
     "name": "stdout",
     "output_type": "stream",
     "text": [
      "7\n"
     ]
    }
   ],
   "source": [
    "def suma(a,b):\n",
    "    \n",
    "    print(a+b)\n",
    "\n",
    "suma(3,4)"
   ]
  },
  {
   "cell_type": "markdown",
   "metadata": {},
   "source": [
    "Como vemos aquí la función suma recibe dos parámetros a y b. E imprime la suma de estos valores. \n",
    "\n",
    "Recordemos que en el caso particular de Python, el tipo de dato de las variables no necesita ser pre-definido y puede cambiar durante la ejecución. Por ejemplo, usando la misma definición, si enviamos los valores como cadenas de caracteres esta sería la ejecución."
   ]
  },
  {
   "cell_type": "code",
   "execution_count": 2,
   "metadata": {},
   "outputs": [
    {
     "name": "stdout",
     "output_type": "stream",
     "text": [
      "34\n"
     ]
    }
   ],
   "source": [
    "def suma(a,b):\n",
    "    \n",
    "    print(a+b)\n",
    "\n",
    "suma(\"3\",\"4\")"
   ]
  },
  {
   "cell_type": "markdown",
   "metadata": {},
   "source": [
    "En este caso, la función suma(a,b) no retorna ningún valor. \n",
    "\n",
    "Vamos ahora a realizar definir dos funciones; una función que retorne un valor al final de la ejecución."
   ]
  },
  {
   "cell_type": "code",
   "execution_count": 3,
   "metadata": {},
   "outputs": [
    {
     "name": "stdout",
     "output_type": "stream",
     "text": [
      "7\n"
     ]
    }
   ],
   "source": [
    "def suma(a,b):   \n",
    "    return a+b\n",
    "\n",
    "def main():\n",
    "    resultado = suma(3,4)\n",
    "    print(resultado)\n",
    "\n",
    "main()"
   ]
  },
  {
   "cell_type": "markdown",
   "metadata": {},
   "source": [
    "Como vemos, en Python tampoco es necesario definir previo a la ejecución el tipo de dato a retornar. En este caso, la variable resultado recibe el valor retornado por suma(a,b).\n",
    "\n",
    "1. En qué casos puede ser más indicado retornar un valor específico?\n",
    "2. En qué casos no sería necesario retornar ningún valor?\n",
    "\n",
    "Analicemos adicionalmente el llamado entre funciones y la ejecución del programa.\n",
    "1. Por qué se ejecuta main primero?\n",
    "\n",
    "\n",
    "Como ya hemos venido trabajando con funciones, vamos a utilizar este espacio para reforzar los conocimientos adquiridos hasta el momento  mientras incluímos el uso de funciones.\n",
    "\n",
    "### Actividad 1\n",
    "Usted es cajero en un supermercado de su ciudad. Su trabajo es imprimir cada uno de los productos de su cliente, su precio y calcular el total a pagar.\n",
    "\n",
    "Diseñe un programa con las siguiente características:\n",
    "1. Que tenga una función principal que solicite al usuario nombre y precio de cada producto.\n",
    "2. Una variable total que vaya sumando el precio de los artículos\n",
    "3. Una función adicional llamada imprimaProducto(nombre, precio) que reciba el nombre y el precio de cada producto y los imprima.\n",
    "4. Que después de cada artículo le pregunte al usuario si tiene o no más artículos a ingresar. Si no tiene, el programa debe detenerse."
   ]
  },
  {
   "cell_type": "code",
   "execution_count": null,
   "metadata": {},
   "outputs": [],
   "source": [
    "\n",
    "   "
   ]
  },
  {
   "cell_type": "markdown",
   "metadata": {},
   "source": [
    "### Actividad 2\n",
    " \n",
    "Escribamos una función numAleatorio() que retorne un número aleatorio entre 100 y 130, excepto los números 110, 115, 120 y \n",
    "\n",
    "Adicionalmente, una función principal que imprima diez números aleatorios (retornados por la función numAleatorio()) alternando par, impar, comenzando por par."
   ]
  },
  {
   "cell_type": "code",
   "execution_count": null,
   "metadata": {},
   "outputs": [],
   "source": []
  },
  {
   "cell_type": "markdown",
   "metadata": {},
   "source": [
    "## Reto de la semana\n",
    "\n",
    "La definición del reto de esta semana está disponible en el LMS del curso. \n",
    "\n",
    "## Retos del día\n",
    "\n",
    "<b>INFORMACIÓN IMPORTANTE:</b> Recuerda que los retos del día son una oportunidad de reforzar los conocimientos adquiridos en esta sesión teórica y adicionalmente sirven para modificar, practicar y aprender a considerar soluciones alternas. Por este motivo, es importante no sólo usar el contenido de la sesión síncrona y preguntar a los monitores, sino también buscar en Internet soluciones viables a los problemas planteados. \n",
    "\n",
    "Recuerda que tienes hasta la media noche para enviar el reto, así que toma el tiempo necesario para analizar y desarrollar tu solución. Lo más importante antes de empezar a programar es pensar en el algoritmo que vas a utilizar. Cuales son los pasos para solucionar el problema? La implementación y las funciones a usar se pueden encontrar una vez esto este claro.\n",
    "\n",
    "Consideraciones para los retos del día:\n",
    "\n",
    "    1. El archivo con los retos del día puede ser descargado en la página del curso. Ve a la sesión indicada y busca la opción Retos del día.\n",
    "    2. El archivo lo deben subir a Google Collaboratory para poder manipularlo\n",
    "    3. Deben guardar el archivo a subir como retos.ipnyb - OJO, sino tiene este nombre no ejecutará y no podrá revisarse automáticamente"
   ]
  }
 ],
 "metadata": {
  "kernelspec": {
   "display_name": "Python 3",
   "language": "python",
   "name": "python3"
  },
  "language_info": {
   "codemirror_mode": {
    "name": "ipython",
    "version": 3
   },
   "file_extension": ".py",
   "mimetype": "text/x-python",
   "name": "python",
   "nbconvert_exporter": "python",
   "pygments_lexer": "ipython3",
   "version": "3.7.6"
  }
 },
 "nbformat": 4,
 "nbformat_minor": 4
}
