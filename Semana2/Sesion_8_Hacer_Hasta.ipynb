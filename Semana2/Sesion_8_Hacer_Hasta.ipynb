{
 "cells": [
  {
   "cell_type": "markdown",
   "metadata": {},
   "source": [
    "# Fundamentos de Programación con Python\n",
    "\n",
    "Estos Notebooks fueron creados por profesores y diseñadores de contenido de la Universidad del Norte, en Barranquilla - Colombia.\n",
    "\n",
    "Todos estos materiales cuentan con una licencia <b>Creative Commons</b> de libre uso con atribución.\n",
    "\n",
    "## Hacer hasta\n",
    "\n",
    "Como vimos anteriormente, en Python, el ciclo Hacer hasta no tiene una traducción literal. \n",
    "\n",
    "Este ciclo se puede manejar con Mientras Que \"while\" pero adicionando un condicional que termine el ciclo cuando se necesario. El componente práctico del día de hoy nos ayudará a reforzar el conocimiento del while y a utilizar nuevas opciones para manejar los ciclos más eficientemente.\n",
    "\n",
    "Empecemos con algo sencillo"
   ]
  },
  {
   "cell_type": "code",
   "execution_count": 1,
   "metadata": {},
   "outputs": [
    {
     "name": "stdout",
     "output_type": "stream",
     "text": [
      "1\n",
      "2\n",
      "3\n",
      "4\n"
     ]
    }
   ],
   "source": [
    "i = 1\n",
    "while i < 10:\n",
    "    if i == 5:\n",
    "        break\n",
    "    \n",
    "    print(i)\n",
    "    i += 1"
   ]
  },
  {
   "cell_type": "markdown",
   "metadata": {},
   "source": [
    "¿Por qué solo imprime hasta 4?\n",
    "\n",
    "Python tiene otra expresión útil que nos puede servir más adelante. Es la expresión <b>continue</b>. Mientras que break interrumpe el ciclo que se está ejecutando, continue hace que se pase a la siguiente iteración del ciclo sin ejecutar el código que está por debajo de la expresión. Miremos la diferencia si cambiamos el código anterior.\n",
    "\n",
    "Una consideración importante es que tenemos que mover el incremento al comienzo del ciclo, de lo contrario una vez llegue a 5 se saltará esa línea y nunca se incrementará x, es decir, el ciclo se volvería infinito."
   ]
  },
  {
   "cell_type": "code",
   "execution_count": 2,
   "metadata": {},
   "outputs": [
    {
     "name": "stdout",
     "output_type": "stream",
     "text": [
      "2\n",
      "3\n",
      "4\n",
      "6\n",
      "7\n",
      "8\n",
      "9\n",
      "10\n"
     ]
    }
   ],
   "source": [
    "x = 1\n",
    "while x < 10:\n",
    "    x += 1\n",
    "    if x == 5:\n",
    "        continue\n",
    "    print(x)\n"
   ]
  },
  {
   "cell_type": "markdown",
   "metadata": {},
   "source": [
    "### Actividad 1\n",
    "\n",
    "El día de ayer trabajamos con un ciclo que imprimiera los dígitos de un número. Vamos a modificarlo para usar break e interrumpir el ciclo. El código debe imprimir los dígitos de un número hasta que termine los dígitos o hasta que encuentre un 4 en el número. El programa debe deternerse sin imprimir el número 4."
   ]
  },
  {
   "cell_type": "code",
   "execution_count": null,
   "metadata": {},
   "outputs": [],
   "source": [
    "   "
   ]
  },
  {
   "cell_type": "markdown",
   "metadata": {},
   "source": [
    "### Actividad 2\n",
    "\n",
    "Ahora creemos un programa que dependa del usuario para deternerse. En este caso, vamos a dejar el ciclo como Infinito (while True) y le solicitamos al usuario que seleccioné una opción del menú y de acuerdo a la opción, los números requeridos para la operación.\n",
    "1. Suma a + b\n",
    "2. Resta a - b\n",
    "3. Imprime a\n",
    "4. Termina el programa\n",
    "\n",
    "Como puedes ver, 4 terminar la ejecución del programa."
   ]
  },
  {
   "cell_type": "code",
   "execution_count": null,
   "metadata": {},
   "outputs": [],
   "source": [
    "   "
   ]
  },
  {
   "cell_type": "markdown",
   "metadata": {},
   "source": [
    "## Reto de la semana\n",
    "\n",
    "La definición del reto de esta semana está disponible en el LMS del curso. \n",
    "\n",
    "## Retos del día\n",
    "\n",
    "<b>INFORMACIÓN IMPORTANTE:</b> Recuerda que los retos del día son una oportunidad de reforzar los conocimientos adquiridos en esta sesión teórica y adicionalmente sirven para modificar, practicar y aprender a considerar soluciones alternas. Por este motivo, es importante no sólo usar el contenido de la sesión síncrona y preguntar a los monitores, sino también buscar en Internet soluciones viables a los problemas planteados. \n",
    "\n",
    "Recuerda que tienes hasta la media noche para enviar el reto, así que toma el tiempo necesario para analizar y desarrollar tu solución. Lo más importante antes de empezar a programar es pensar en el algoritmo que vas a utilizar. Cuales son los pasos para solucionar el problema? La implementación y las funciones a usar se pueden encontrar una vez esto este claro.\n",
    "\n",
    "Consideraciones para los retos del día:\n",
    "\n",
    "    1. El archivo con los retos del día puede ser descargado en la página del curso. Ve a la sesión indicada y busca la opción Retos del día.\n",
    "    2. El archivo lo deben subir a Google Collaboratory para poder manipularlo\n",
    "    3. Deben guardar el archivo a subir como retos.ipnyb - OJO, sino tiene este nombre no ejecutará y no podrá revisarse automáticamente"
   ]
  }
 ],
 "metadata": {
  "kernelspec": {
   "display_name": "Python 3",
   "language": "python",
   "name": "python3"
  },
  "language_info": {
   "codemirror_mode": {
    "name": "ipython",
    "version": 3
   },
   "file_extension": ".py",
   "mimetype": "text/x-python",
   "name": "python",
   "nbconvert_exporter": "python",
   "pygments_lexer": "ipython3",
   "version": "3.8.3"
  }
 },
 "nbformat": 4,
 "nbformat_minor": 4
}
