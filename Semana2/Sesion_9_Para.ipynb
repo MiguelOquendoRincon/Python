{
 "cells": [
  {
   "cell_type": "markdown",
   "metadata": {},
   "source": [
    "# Fundamentos de Programación con Python\n",
    "\n",
    "Estos Notebooks fueron creados por profesores y diseñadores de contenido de la Universidad del Norte, en Barranquilla - Colombia.\n",
    "\n",
    "Todos estos materiales cuentan con una licencia <b>Creative Commons</b> de libre uso con atribución.\n",
    "\n",
    "## Para\n",
    "\n",
    "El ciclo Para o For en Python nos ayuda a ejecutar dentro dentro de un rango determinado de iteraciones. Esto es particularmente útil cuando usamos estructuras de datos que son inherentement \"ordenadas\"; listas, colecciones, cadenas de caracteres, etc. \n",
    "\n",
    "En la semana uno exploramos el tipo de dato string (una cadena de caracteres). Los caracteres dentro de este tipo de dato en Python puede ser recorridos con la posicion en la que se encuentran dentro de la cadena. Veamos un ejemplo"
   ]
  },
  {
   "cell_type": "code",
   "execution_count": 12,
   "metadata": {},
   "outputs": [
    {
     "name": "stdout",
     "output_type": "stream",
     "text": [
      "Primer ciclo\n",
      "P\n",
      "r\n",
      "u\n",
      "e\n",
      "b\n",
      "a\n",
      "Segundo ciclo\n",
      "P\n",
      "r\n",
      "u\n",
      "e\n",
      "b\n",
      "a\n"
     ]
    }
   ],
   "source": [
    "palabra = \"Prueba\"\n",
    "longitud = len(palabra)\n",
    "\n",
    "print(\"Primer ciclo\")\n",
    "for i in range(longitud):\n",
    "    print(palabra[i])\n",
    "\n",
    "print(\"Segundo ciclo\")\n",
    "for x in \"Prueba\":\n",
    "    print(x)"
   ]
  },
  {
   "cell_type": "markdown",
   "metadata": {},
   "source": [
    "El segundo ciclo funciona en Python de esta forma porque un string es considerado un objeto iterable (que puede recorrerse).\n",
    "\n",
    "\n",
    "Vamos a modificar este algoritmo para conocer la longitud de la palabra y validar la ubicación de cada valor dentro de la cadena."
   ]
  },
  {
   "cell_type": "code",
   "execution_count": 13,
   "metadata": {},
   "outputs": [
    {
     "name": "stdout",
     "output_type": "stream",
     "text": [
      "Longitud 6\n",
      "0 P\n",
      "1 r\n",
      "2 u\n",
      "3 e\n",
      "4 b\n",
      "5 a\n"
     ]
    }
   ],
   "source": [
    "palabra = \"Prueba\"\n",
    "longitud = len(palabra)\n",
    "\n",
    "print(\"Longitud\", longitud)\n",
    "\n",
    "for i in range(longitud):\n",
    "    print(i,palabra[i])"
   ]
  },
  {
   "cell_type": "markdown",
   "metadata": {},
   "source": [
    "Si la longitud es 6, por qué la última letra está en la posición 5? Qué implicaciones tiene esto?\n",
    "\n",
    "Esta condición aplica igualmente para las listas, estructura que veremos más adelante.\n",
    "\n",
    "### Actividad 1\n",
    "\n",
    "Vamos a realizar un algoritmo que nos calcule la serie de Fibonacci.La serie o secuencia de Fibonacci comienza con los números 0 y 1 y 1, y a partir de allí es posible calcular el siguiente valor como la suma de los dos valores anteriores. Por ejemplo, 1+1=2, 1+2=3, 2+3=5, etc.\n",
    "\n",
    "Así, los primeros números de la secuencia son: 0, 1, 1, 2, 3, 5, 8, 13, 21, 34, ...\n",
    "\n",
    "Creemos un programa que a partir de un número N ingresado, imprima los primeros N números de la serie de Fibonacci."
   ]
  },
  {
   "cell_type": "code",
   "execution_count": null,
   "metadata": {},
   "outputs": [],
   "source": [
    "   "
   ]
  },
  {
   "cell_type": "markdown",
   "metadata": {},
   "source": [
    "### Actividad 2\n",
    "\n",
    "La opción break y continue también se pueden utilizar con el ciclo For. \n",
    "\n",
    "Creemos un algoritmo usando break que reciba una palabra e imprima el número de letras que tiene y las letras hasta que, o bien termine la palabra o encuentre la letra a. "
   ]
  },
  {
   "cell_type": "code",
   "execution_count": null,
   "metadata": {},
   "outputs": [],
   "source": [
    "   "
   ]
  },
  {
   "cell_type": "markdown",
   "metadata": {},
   "source": [
    "### Actividad 3\n",
    "\n",
    "Ahora, realicemos una actividad con números. Vamos a realizar un algoritmo que lea 10 números e imprima cuantos son positivos, cuantos negativos y cuantos neutros(0)."
   ]
  },
  {
   "cell_type": "markdown",
   "metadata": {},
   "source": []
  },
  {
   "cell_type": "markdown",
   "metadata": {},
   "source": [
    "## Reto de la semana\n",
    "\n",
    "La definición del reto de esta semana está disponible en el LMS del curso. \n",
    "\n",
    "## Retos del día\n",
    "\n",
    "<b>INFORMACIÓN IMPORTANTE:</b> Recuerda que los retos del día son una oportunidad de reforzar los conocimientos adquiridos en esta sesión teórica y adicionalmente sirven para modificar, practicar y aprender a considerar soluciones alternas. Por este motivo, es importante no sólo usar el contenido de la sesión síncrona y preguntar a los monitores, sino también buscar en Internet soluciones viables a los problemas planteados. \n",
    "\n",
    "Recuerda que tienes hasta la media noche para enviar el reto, así que toma el tiempo necesario para analizar y desarrollar tu solución. Lo más importante antes de empezar a programar es pensar en el algoritmo que vas a utilizar. Cuales son los pasos para solucionar el problema? La implementación y las funciones a usar se pueden encontrar una vez esto este claro.\n",
    "\n",
    "Consideraciones para los retos del día:\n",
    "\n",
    "    1. El archivo con los retos del día puede ser descargado en la página del curso. Ve a la sesión indicada y busca la opción Retos del día.\n",
    "    2. El archivo lo deben subir a Google Collaboratory para poder manipularlo\n",
    "    3. Deben guardar el archivo a subir como retos.ipnyb - OJO, sino tiene este nombre no ejecutará y no podrá revisarse automáticamente"
   ]
  }
 ],
 "metadata": {
  "kernelspec": {
   "display_name": "Python 3",
   "language": "python",
   "name": "python3"
  },
  "language_info": {
   "codemirror_mode": {
    "name": "ipython",
    "version": 3
   },
   "file_extension": ".py",
   "mimetype": "text/x-python",
   "name": "python",
   "nbconvert_exporter": "python",
   "pygments_lexer": "ipython3",
   "version": "3.8.3"
  }
 },
 "nbformat": 4,
 "nbformat_minor": 4
}
