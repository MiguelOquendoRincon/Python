{
 "cells": [
  {
   "cell_type": "markdown",
   "metadata": {
    "id": "Z4n9Yk-oN1pb"
   },
   "source": [
    "## Retos del día\n",
    "\n",
    "***OJO*** A partir de esta sesión es tu responsabilidad definir la función indicada y retornar el valor solicitado. \n",
    "def reto1():\n",
    "    print(resultado) o return resultado\n",
    "\n",
    "<b>INFORMACIÓN IMPORTANTE:</b> Recuerda que los retos del día son una oportunidad de reforzar los conocimientos adquiridos en esta sesión teórica y adicionalmente sirven para modificar, practicar y aprender a considerar soluciones alternas. Por este motivo, es importante no sólo usar el contenido de la sesión síncrona y preguntar a los monitores, sino también buscar en Internet soluciones viables a los problemas planteados. \n",
    "\n",
    "Recuerda que tienes hasta la media noche para enviar el reto, así que toma el tiempo necesario para analizar y desarrollar tu solución. Lo más importante antes de empezar a programar es pensar en el algoritmo que vas a utilizar. Cuales son los pasos para solucionar el problema? La implementación y las funciones a usar se pueden encontrar una vez esto este claro.\n",
    "\n",
    "\n",
    "### Reto del día 1\n",
    "Crea una funcion reto1 que reciba tres numeros a, b y c. Calcule la suma (S) entre a y b y si S es menor o igual que c calcule la suma sucesiva de los numeros entre S y c (incluyéndolos). Si S es mayor que c debe calcular las multiplicaciones sucesivas de los numeros entre c y S (incluyéndolos). \n",
    "\n",
    "Ejemplos:<br/>\n",
    "reto1(2,3,7)\n",
    "Si los parámetros de entrada son a=2, b=3, y c=7 <br/>\n",
    "a+b = 5 <br/>\n",
    "5 < 7 <br/>\n",
    "5 + 6 + 7 = 18. <br/> \n",
    "\n",
    "Ahora si  a=7, b=3, y c=7 <br/>\n",
    "7 * 8 * 9 * 10 = 5040."
   ]
  },
  {
   "cell_type": "code",
   "execution_count": 17,
   "metadata": {
    "id": "xLtJ2vihN1pc",
    "outputId": "fa43aeb3-91e3-4f5d-c2d1-c29f0e89c494"
   },
   "outputs": [
    {
     "data": {
      "text/plain": [
       "55440"
      ]
     },
     "execution_count": 17,
     "metadata": {},
     "output_type": "execute_result"
    }
   ],
   "source": [
    "def reto1(a,b,c):\n",
    "    suma = a+b\n",
    "    if(suma<=c):\n",
    "        total = 0\n",
    "        for i in range(suma, c+1):\n",
    "            total = total + i\n",
    "        return(total)\n",
    "    else:\n",
    "        total = 1\n",
    "        for i in range(c, suma+1):\n",
    "            total = total * i\n",
    "        return(total)\n",
    "\n",
    "reto1(5,6,7)"
   ]
  },
  {
   "cell_type": "markdown",
   "metadata": {
    "id": "VmIvnvb5N1ph"
   },
   "source": [
    "### Reto del día 2\n",
    "Crea una función primo que reciba como parámetro un número entero X y determine si es Primo o No. Si es Primo, debe retornar True sino False.\n",
    "\n",
    "Adicionalmente crea una función reto2 que recibe un número entero X como parámetro, y que valide todos los números de 1 hasta X llamando la función primo e imprima todos los que sean Primos (es decir que la función primo retorne True). ***Ojo*** Ambas funciones deben existir y serán probadas por el autotest.\n",
    "\n",
    "Ejemplo:<br/>\n",
    "reto2(11) Si el parametro de entrada es 11 <br/> \n",
    "imprime<br/>\n",
    "2<br/>\n",
    "3<br/>\n",
    "5<br/>\n",
    "7<br/>\n",
    "11<br/><br/>\n",
    "<br/>\n",
    "primo(2) devuelve True <br/>\n",
    "primo(4) devuelve False<br/>\n"
   ]
  },
  {
   "cell_type": "code",
   "execution_count": 43,
   "metadata": {
    "id": "70DyAXmhN1ph",
    "outputId": "4588775b-700b-4e05-910a-abe4bad92bfe"
   },
   "outputs": [
    {
     "name": "stdout",
     "output_type": "stream",
     "text": [
      "2\n",
      "3\n",
      "5\n",
      "7\n",
      "11\n"
     ]
    }
   ],
   "source": [
    "def reto2(x):\n",
    "    for i in range (2, x+1):\n",
    "        if(primo(i)==True):\n",
    "            print(i)\n",
    "\n",
    "def primo(x):\n",
    "    esPrimo = False\n",
    "    if x < 2:\n",
    "        return esPrimo\n",
    "    for i in range(2, x):\n",
    "        if x % i == 0:\n",
    "            return esPrimo\n",
    "    esPrimo=True\n",
    "    return esPrimo  \n",
    "\n",
    "reto2(11)   "
   ]
  },
  {
   "cell_type": "code",
   "execution_count": null,
   "metadata": {},
   "outputs": [],
   "source": []
  }
 ],
 "metadata": {
  "colab": {
   "name": "Sesion-11-retos.ipynb",
   "provenance": []
  },
  "kernelspec": {
   "display_name": "Python 3",
   "language": "python",
   "name": "python3"
  },
  "language_info": {
   "codemirror_mode": {
    "name": "ipython",
    "version": 3
   },
   "file_extension": ".py",
   "mimetype": "text/x-python",
   "name": "python",
   "nbconvert_exporter": "python",
   "pygments_lexer": "ipython3",
   "version": "3.7.6"
  }
 },
 "nbformat": 4,
 "nbformat_minor": 1
}
