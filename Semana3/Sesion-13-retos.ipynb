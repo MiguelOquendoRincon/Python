{
 "cells": [
  {
   "cell_type": "markdown",
   "metadata": {},
   "source": [
    "## Retos del día\n",
    "\n",
    "***OJO*** \n",
    "1. Recuerda que es tu responsabilidad definir la función indicada y retornar el valor solicitado. <br/>\n",
    "    def reto1():<br/>\n",
    "        print(resultado) o return resultado\n",
    "2. A partir de esta sesión, las funciones podrán recibir parámetros o solicitar los datos al usuario usando la función input() de Python. Revisa el enunciado del reto para determinar como se deben recibir los valores y recuerda que para input() los valores serán entregados en el orden que sea indicado en el enunciado.\n",
    "3. Hemos ampliado el plazo para enviar el reto hasta las 7:00 am del día siguiente, así que toma el tiempo necesario para analizar y desarrollar tu solución. Recuerda que lo más importante antes de empezar a programar es pensar en el algoritmo que vas a utilizar. Cuales son los pasos para solucionar el problema? La implementación y las funciones a usar se pueden encontrar una vez esto este claro.\n",
    "\n",
    "\n",
    "<b>INFORMACIÓN IMPORTANTE:</b> Recuerda que los retos del día son una oportunidad de reforzar los conocimientos adquiridos en esta sesión teórica y adicionalmente sirven para modificar, practicar y aprender a considerar soluciones alternas. Por este motivo, es importante no sólo usar el contenido de la sesión síncrona y preguntar a los monitores, sino también buscar en Internet soluciones viables a los problemas planteados. \n",
    "\n",
    "### Reto del día 1\n",
    "Crea una función mayor(x) que reciba una lista x e imprima el mayor número de la lista y el número de veces que aparece el mayor.\n",
    "\n",
    "Crea una funcion reto1() que no reciba parámetros pero lea el numero de elementos a ingresar y los elementos de la lista y llame a la función mayor(x).\n",
    "\n",
    "***Ojo*** El primer valor a ingresar cuando se llama la función reto1() es el numero de elementos N que tiene la lista y los siguientes N valores son los elementos de la lista. \n",
    "\n",
    "Ejemplo: <br/>\n",
    "reto1() <br/>\n",
    "input() recibe 5 ---- Este es el numero de elementos <br/>\n",
    "input() recibe 20 <br/>\n",
    "input() recibe 32 <br/>\n",
    "input() recibe 8 <br/>\n",
    "input() recibe 32 <br/>\n",
    "input() recibe 3 <br/>\n",
    "imprime <br/>\n",
    "Mayor 32 <br/>\n",
    "Veces 2\n",
    "\n",
    "mayor([2,3,5,8,1]) imprime <br/>\n",
    "8\n",
    "1"
   ]
  },
  {
   "cell_type": "code",
   "execution_count": 107,
   "metadata": {},
   "outputs": [
    {
     "name": "stdout",
     "output_type": "stream",
     "text": [
      "5\n",
      "9\n",
      "9\n",
      "5\n",
      "6\n",
      "3\n",
      "9\n",
      "2\n",
      "9\n",
      "2\n"
     ]
    }
   ],
   "source": [
    "def reto1():\n",
    "    n = int(input())\n",
    "    lista = []\n",
    "    for i in range(0,n):\n",
    "        item = int(input())\n",
    "        lista.append(item)\n",
    "    a = lista\n",
    "    sup, contador = mayor(a)\n",
    "    print(sup)\n",
    "    print(contador)\n",
    "\n",
    "\n",
    "def mayor(x):\n",
    "    lista = []\n",
    "    contador = 0\n",
    "    for i in range(0,len(x)):\n",
    "        lista.append(x[i])\n",
    "        mayor = max(lista)\n",
    "    for n in range(0,len(lista)):\n",
    "        if(lista[n] == mayor):\n",
    "            contador = contador + 1\n",
    "    print(mayor)\n",
    "    print(contador)\n",
    "    return (mayor,contador)\n",
    "\n",
    "#No modifiques esta parte! \n",
    "if __name__ == \"__main__\":\n",
    "    reto1()  \n",
    "    mayor([2,8,5,8,1])"
   ]
  },
  {
   "cell_type": "markdown",
   "metadata": {},
   "source": [
    "### Reto del día 2\n",
    "\n",
    "Escribe una función reto2(x,y,z) donde x es el número de elementos, y es el valor inicial y z la diferencia entre cada elemento. Con estos parámetros crea una lista de x elementos que inicia en y y va de z en z.\n",
    "\n",
    "Ejemplo:<br/>\n",
    "reto2(6,2,5) devuelve<br/>\n",
    "[2,7,12,17,22,27]\n",
    "\n",
    "reto2(3,11,7) devuelve<br/>\n",
    "[11,18,25]\n"
   ]
  },
  {
   "cell_type": "code",
   "execution_count": 60,
   "metadata": {},
   "outputs": [
    {
     "data": {
      "text/plain": [
       "[11, 18, 25]"
      ]
     },
     "execution_count": 60,
     "metadata": {},
     "output_type": "execute_result"
    }
   ],
   "source": [
    "def reto2(x,y,z):\n",
    "    lista = []\n",
    "    for i in range(0,x):\n",
    "        lista.append(i)\n",
    "    lista[0] = y\n",
    "    for n in range(1, len(lista)):\n",
    "        lista[n] = lista[n-1] + z\n",
    "    print(lista)\n",
    "\n",
    "#No modifiques esta parte! \n",
    "if __name__ == \"__main__\":\n",
    "    reto2(3,11,7)  "
   ]
  },
  {
   "cell_type": "code",
   "execution_count": null,
   "metadata": {},
   "outputs": [],
   "source": []
  }
 ],
 "metadata": {
  "kernelspec": {
   "display_name": "Python 3",
   "language": "python",
   "name": "python3"
  },
  "language_info": {
   "codemirror_mode": {
    "name": "ipython",
    "version": 3
   },
   "file_extension": ".py",
   "mimetype": "text/x-python",
   "name": "python",
   "nbconvert_exporter": "python",
   "pygments_lexer": "ipython3",
   "version": "3.7.6"
  }
 },
 "nbformat": 4,
 "nbformat_minor": 4
}
