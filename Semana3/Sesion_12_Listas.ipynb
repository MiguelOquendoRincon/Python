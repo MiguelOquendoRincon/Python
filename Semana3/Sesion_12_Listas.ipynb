{
 "cells": [
  {
   "cell_type": "markdown",
   "metadata": {},
   "source": [
    "# Fundamentos de Programación con Python\n",
    "\n",
    "Estos Notebooks fueron creados por profesores y diseñadores de contenido de la Universidad del Norte, en Barranquilla - Colombia.\n",
    "\n",
    "Todos estos materiales cuentan con una licencia <b>Creative Commons</b> de libre uso con atribución.\n",
    "\n",
    "## Vectores/Listas\n",
    "\n",
    "Como vimos en la parte teórica, los vectores son una estructura de dato organizada que nos permite almacenar información. Una de las implementaciones más utilizadas es Python son las listas (List). Nota: En Python hay algunas diferencias menores entre un arreglo (array) y una lista, pero por ahora vamos a asumir que son lo mismo.\n",
    "\n",
    "Vamos a ver una definición de esta estructura en Python. Para crear una lista, utilizamos los corchetes y separamos los valores de nuestra estructura con una coma. Por ejemplo, en la siguiente instrucción estamos creando una lista llamada a con los valores 1, 3, 2, 5, 2."
   ]
  },
  {
   "cell_type": "code",
   "execution_count": 1,
   "metadata": {},
   "outputs": [
    {
     "name": "stdout",
     "output_type": "stream",
     "text": [
      "[1, 3, 2, 5, 2]\n"
     ]
    }
   ],
   "source": [
    "a = [1, 3, 2, 5, 2]\n",
    "print(a)"
   ]
  },
  {
   "cell_type": "markdown",
   "metadata": {},
   "source": [
    "Las listas no necesariamente tienen que ser de números, también pueden ser de texto:"
   ]
  },
  {
   "cell_type": "code",
   "execution_count": 2,
   "metadata": {},
   "outputs": [
    {
     "name": "stdout",
     "output_type": "stream",
     "text": [
      "['María', 'Juan', 'Andrés']\n"
     ]
    }
   ],
   "source": [
    "nombres = [\"María\", \"Juan\",\"Andrés\"]\n",
    "print(nombres)"
   ]
  },
  {
   "cell_type": "markdown",
   "metadata": {},
   "source": [
    "Los valores de la lista empiezan en la posición <b>cero</b>. Vamos a imprimir los valores iniciales de las listas."
   ]
  },
  {
   "cell_type": "code",
   "execution_count": 3,
   "metadata": {},
   "outputs": [
    {
     "name": "stdout",
     "output_type": "stream",
     "text": [
      "1\n",
      "María\n"
     ]
    }
   ],
   "source": [
    "print(a[0])\n",
    "print(nombres[0])"
   ]
  },
  {
   "cell_type": "markdown",
   "metadata": {},
   "source": [
    "Aquí van algunas funciones útiles cuando trabajamos con listas.\n",
    "1. append(x) - inserta un nuevo valor x al final de la lista\n",
    "2. remove(x) - remueve el primer valor X de la lista\n",
    "3. pop([i]) - remueve el valor en la posición i. pop() remueve el último valor de la lista\n",
    "4. len(x) -  permite calcular el tamaño de una lista\n",
    "\n",
    "Ahora, veamoslas en acción"
   ]
  },
  {
   "cell_type": "code",
   "execution_count": 4,
   "metadata": {},
   "outputs": [
    {
     "name": "stdout",
     "output_type": "stream",
     "text": [
      "['María', 'Juan', 'Andrés', 'Jorge']\n",
      "4\n",
      "['María', 'Andrés', 'Jorge']\n",
      "3\n",
      "['María', 'Andrés']\n",
      "2\n"
     ]
    }
   ],
   "source": [
    "nombres = [\"María\", \"Juan\",\"Andrés\"]\n",
    "\n",
    "\n",
    "nombres.append(\"Jorge\")\n",
    "print(nombres)\n",
    "print(len(nombres))\n",
    "\n",
    "nombres.remove(\"Juan\")\n",
    "print(nombres)\n",
    "print(len(nombres))\n",
    "\n",
    "nombres.pop(2)\n",
    "print(nombres)\n",
    "print(len(nombres))"
   ]
  },
  {
   "cell_type": "markdown",
   "metadata": {},
   "source": [
    "### Actividad 1\n",
    " \n",
    "Usando nuestro conocimiento de ciclos, vamos a crear una lista con los numeros pares del 1 al 10 y un ciclo para que los imprima."
   ]
  },
  {
   "cell_type": "code",
   "execution_count": null,
   "metadata": {},
   "outputs": [],
   "source": []
  },
  {
   "cell_type": "markdown",
   "metadata": {},
   "source": [
    "### Actividad 2\n",
    "Escribamos un programa que nos permita crear una lista de 6 números aleatorios en Python, y creemos tres funciones de la siguiente forma:\n",
    "\n",
    "   - mayor(x) - Una función que imprima el número mayor valor de una lista x\n",
    "   - primos(x) - Una función que imprima los números de la lista que son números primos\n",
    "   - orden(x) - Una función que ordene los datos de una lista x ascendentemente y la imprima en orden"
   ]
  },
  {
   "cell_type": "code",
   "execution_count": null,
   "metadata": {},
   "outputs": [],
   "source": []
  },
  {
   "cell_type": "markdown",
   "metadata": {},
   "source": [
    "## Reto de la semana\n",
    "\n",
    "La definición del reto de esta semana está disponible en el LMS del curso. \n",
    "\n",
    "## Retos del día\n",
    "\n",
    "<b>INFORMACIÓN IMPORTANTE:</b> Recuerda que los retos del día son una oportunidad de reforzar los conocimientos adquiridos en esta sesión teórica y adicionalmente sirven para modificar, practicar y aprender a considerar soluciones alternas. Por este motivo, es importante no sólo usar el contenido de la sesión síncrona y preguntar a los monitores, sino también buscar en Internet soluciones viables a los problemas planteados. \n",
    "\n",
    "Recuerda que tienes hasta la media noche para enviar el reto, así que toma el tiempo necesario para analizar y desarrollar tu solución. Lo más importante antes de empezar a programar es pensar en el algoritmo que vas a utilizar. Cuales son los pasos para solucionar el problema? La implementación y las funciones a usar se pueden encontrar una vez esto este claro.\n",
    "\n",
    "Consideraciones para los retos del día:\n",
    "\n",
    "    1. El archivo con los retos del día puede ser descargado en la página del curso. Ve a la sesión indicada y busca la opción Retos del día.\n",
    "    2. El archivo lo deben subir a Google Collaboratory para poder manipularlo\n",
    "    3. Deben guardar el archivo a subir como retos.ipnyb - OJO, sino tiene este nombre no ejecutará y no podrá revisarse automáticamente"
   ]
  }
 ],
 "metadata": {
  "kernelspec": {
   "display_name": "Python 3",
   "language": "python",
   "name": "python3"
  },
  "language_info": {
   "codemirror_mode": {
    "name": "ipython",
    "version": 3
   },
   "file_extension": ".py",
   "mimetype": "text/x-python",
   "name": "python",
   "nbconvert_exporter": "python",
   "pygments_lexer": "ipython3",
   "version": "3.8.3"
  }
 },
 "nbformat": 4,
 "nbformat_minor": 4
}
