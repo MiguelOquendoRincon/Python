{
 "cells": [
  {
   "cell_type": "markdown",
   "metadata": {},
   "source": [
    "# Fundamentos de Programación con Python\n",
    "\n",
    "Estos Notebooks fueron creados por profesores y diseñadores de contenido de la Universidad del Norte, en Barranquilla - Colombia.\n",
    "\n",
    "Todos estos materiales cuentan con una licencia <b>Creative Commons</b> de libre uso con atribución.\n",
    "\n",
    "## Funciones con listas\n",
    "\n",
    "En la sesión anterior trabajamos con append(x). Recordemos que esta función inserta el valor x al final de la lista. \n",
    "\n",
    "Pero también existe la función insert(pos, x) que nos permite insertar x en la posición pos. Veamos un ejemplo"
   ]
  },
  {
   "cell_type": "code",
   "execution_count": 1,
   "metadata": {},
   "outputs": [
    {
     "name": "stdout",
     "output_type": "stream",
     "text": [
      "[1, 3, 2, 5, 8, 2]\n"
     ]
    }
   ],
   "source": [
    "a = [1, 3, 2, 5, 2]\n",
    "a.insert(4,8)\n",
    "print(a)"
   ]
  },
  {
   "cell_type": "markdown",
   "metadata": {},
   "source": [
    "Como vemos, insertamos el numero 8 en la posición 4 de la lista y Python hace el desplazamiento de los elementos adicionales.\n",
    "\n",
    "La función contraria pop(i) remueve el elemento en la posición i de la lista. Recordemos como lo usamos"
   ]
  },
  {
   "cell_type": "code",
   "execution_count": 4,
   "metadata": {},
   "outputs": [
    {
     "name": "stdout",
     "output_type": "stream",
     "text": [
      "['María', 'Andrés']\n"
     ]
    }
   ],
   "source": [
    "nombres = [\"María\", \"Juan\",\"Andrés\"]\n",
    "nombres.pop(1)\n",
    "\n",
    "print(nombres)"
   ]
  },
  {
   "cell_type": "markdown",
   "metadata": {},
   "source": [
    "### Actividad 1\n",
    " \n",
    "Vamos a crear una función compara(A,B) que lea dos vectores A y B que contienen los códigos de los estudiantes que cursan Matemáticas y Física respectivamente y retorne una lista con los estudiantes que estén cursando estén cursando las dos asignaturas.\n",
    "\n",
    "Finalmente vamos a crear una funcion actividad1(A,B) que llame a compara(A,B) e imprima el valor devuelto por la función."
   ]
  },
  {
   "cell_type": "code",
   "execution_count": null,
   "metadata": {},
   "outputs": [],
   "source": []
  },
  {
   "cell_type": "markdown",
   "metadata": {},
   "source": [
    "### Actividad 2\n",
    "Escribamos un programa actividad2() que pida al usuario los valores enteros positivos de una lista que puede contener entre 5 y 1000 elementos. El usuario termina de ingresar los valores cuando ingresa -1.\n",
    "\n",
    "Si aún no ha ingresado 5 elementos, el programa debe retornar un error \"Error, se requieren mínimo 5 elementos\" y seguir solicitando más elementos. \n",
    "\n",
    "Si ha ingresado 1000 elementos y aún no ha ingresado -1, el programa imprime un mensaje \"Número máximo de elementos alcanzado\" y continua con el cálculo. \n",
    "\n",
    "A partir de la lista obtenida, crear una función menorPareja(lista), que será llamada desde actividad2(), que calcule cuáles dos de sus elementos son los más cercanos en valor y los imprima. Es decir, que el valor absoluto de su diferencia sea menor que el de cualquier otra pareja de números en la lista.  \n",
    "\n",
    "Por ejemplo, para la lista (4,6,1,90,56,4379,23) la pareja más cercana son 4 y 6, ya que ningún otro par de números tiene una resta cuyo valor absoluto sea menor a 2 (6-4=2)."
   ]
  },
  {
   "cell_type": "code",
   "execution_count": null,
   "metadata": {},
   "outputs": [],
   "source": []
  },
  {
   "cell_type": "markdown",
   "metadata": {},
   "source": [
    "## Reto de la semana\n",
    "\n",
    "La definición del reto de esta semana está disponible en el LMS del curso. \n",
    "\n",
    "## Retos del día\n",
    "\n",
    "<b>INFORMACIÓN IMPORTANTE:</b> Recuerda que los retos del día son una oportunidad de reforzar los conocimientos adquiridos en esta sesión teórica y adicionalmente sirven para modificar, practicar y aprender a considerar soluciones alternas. Por este motivo, es importante no sólo usar el contenido de la sesión síncrona y preguntar a los monitores, sino también buscar en Internet soluciones viables a los problemas planteados. \n",
    "\n",
    "Recuerda que tienes hasta la media noche para enviar el reto, así que toma el tiempo necesario para analizar y desarrollar tu solución. Lo más importante antes de empezar a programar es pensar en el algoritmo que vas a utilizar. Cuales son los pasos para solucionar el problema? La implementación y las funciones a usar se pueden encontrar una vez esto este claro.\n",
    "\n",
    "Consideraciones para los retos del día:\n",
    "\n",
    "    1. El archivo con los retos del día puede ser descargado en la página del curso. Ve a la sesión indicada y busca la opción Retos del día.\n",
    "    2. El archivo lo deben subir a Google Collaboratory para poder manipularlo\n",
    "    3. Deben guardar el archivo a subir como retos.ipnyb - OJO, sino tiene este nombre no ejecutará y no podrá revisarse automáticamente"
   ]
  }
 ],
 "metadata": {
  "kernelspec": {
   "display_name": "Python 3",
   "language": "python",
   "name": "python3"
  },
  "language_info": {
   "codemirror_mode": {
    "name": "ipython",
    "version": 3
   },
   "file_extension": ".py",
   "mimetype": "text/x-python",
   "name": "python",
   "nbconvert_exporter": "python",
   "pygments_lexer": "ipython3",
   "version": "3.8.3"
  }
 },
 "nbformat": 4,
 "nbformat_minor": 4
}
